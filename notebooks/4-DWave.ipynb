{
 "cells": [
  {
   "attachments": {},
   "cell_type": "markdown",
   "metadata": {},
   "source": [
    "<a name=\"top\" id=\"top\"></a>\n",
    "\n",
    "<div align=\"center\">\n",
    "    <h1>Quantum Annealing via D-Wave</h1>\n",
    "    <a href=\"https://github.com/bernalde\">David E. Bernal Neira</a>\n",
    "    <br>\n",
    "    <i>Davidson School of Chemical Engineering, Purdue University</i>\n",
    "    <br>\n",
    "    <i>Universities Space Research Association</i>\n",
    "    <br>\n",
    "    <i>NASA QuAIL</i>\n",
    "    <br>\n",
    "    <br>\n",
    "    <a href=\"https://github.com/pedromxavier\">Pedro Maciel Xavier</a>\n",
    "    <br>\n",
    "    <i>Computer Science &amp; Systems Engineering Program, Federal University of Rio de Janeiro</i>\n",
    "    <br>\n",
    "    <i>PSR Energy Consulting &amp; Analytics</i>\n",
    "    <br>\n",
    "    <br>\n",
    "    <a href=\"https://colab.research.google.com/github/pedromxavier/QUBO-notebooks/blob/main/notebooks/2-QUBO.ipynb\" target=\"_parent\">\n",
    "        <img src=\"https://colab.research.google.com/assets/colab-badge.svg\" alt=\"Open In Colab\"/>\n",
    "    </a>\n",
    "    <a href=\"#installation\">\n",
    "        <img src=\"https://img.shields.io/badge/⚙️-Installation_Instructions-blue\" alt=\"Installation Instructions\"/>\n",
    "    </a>\n",
    "    <a href=\"https://bernalde.github.io/\">\n",
    "        <img src=\"https://img.shields.io/badge/⚗️-Bernal_Lab-blue\" alt=\"Bernal Lab\"/>\n",
    "    </a>\n",
    "</div>"
   ]
  },
  {
   "attachments": {},
   "cell_type": "markdown",
   "metadata": {},
   "source": [
    "### Activate Environment"
   ]
  },
  {
   "cell_type": "code",
   "execution_count": null,
   "metadata": {},
   "outputs": [],
   "source": [
    "import Pkg; Pkg.activate(@__DIR__) # Here we go!"
   ]
  },
  {
   "attachments": {},
   "cell_type": "markdown",
   "metadata": {},
   "source": [
    "## About this Notebook\n",
    "\n",
    "This notebook will give the first interaction with D-Wave's Quantum Annealer.\n",
    "It will use the QUBO modeling problem introduced earlier and will define it using **[JuMP](https://jump.dev)**, and then solve them using neal's implementation of simulated annealing classicaly and D-Wave system package to use Quantum Annealing.\n",
    "We will also leverage the use of **[Graphs.jl](https://github.com/JuliaGraphs/Graphs.jl)** for network models/graphs."
   ]
  },
  {
   "attachments": {},
   "cell_type": "markdown",
   "metadata": {},
   "source": [
    "## Problem statement\n",
    "\n",
    "We define a QUBO as the following optimization problem:\n",
    "\n",
    "$$\n",
    "\\min_{x \\in \\{0,1 \\}^n} \\sum_{(ij) \\in E(G)} Q_{ij}x_i x_j + \\sum_{i \\in V(G)}Q_{ii}x_i + \\beta = \\min_{x \\in \\{0,1 \\}^n}  \\mathbf{x}' \\mathbf{Q} \\mathbf{x} + \\beta\n",
    "$$\n",
    "\n",
    "where we optimize over binary variables $x \\in \\{ 0,1 \\}^n$, on a constrained graph $G(V,E)$ defined by a weighted adjacency matrix $\\mathbf{Q}$.\n",
    "We also include an arbitrary offset  $\\beta$."
   ]
  },
  {
   "attachments": {},
   "cell_type": "markdown",
   "metadata": {},
   "source": [
    "### Example\n",
    "\n",
    "Suppose we want to solve the following problem via QUBO\n",
    "\n",
    "$$\n",
    "\\begin{array}{rl}\n",
    "\\displaystyle%\n",
    "\\min_{\\mathbf{x}} & 2x_0+4x_1+4x_2+4x_3+4x_4+4x_5+5x_6+4x_7+5x_8+6x_9+5x_{10} \\\\\n",
    "\\textrm{s.t.}     & \\begin{bmatrix}\n",
    "1 & 0 & 0 & 1 & 1 & 1 & 0 & 1 & 1 & 1 & 1\\\\\n",
    "0 & 1 & 0 & 1 & 0 & 1 & 1 & 0 & 1 & 1 & 1\\\\\n",
    "0 & 0 & 1 & 0 & 1 & 0 & 1 & 1 & 1 & 1 & 1\n",
    "\\end{bmatrix}\\mathbf{x}=\n",
    "\\begin{bmatrix}\n",
    "1\\\\\n",
    "1\\\\\n",
    "1\n",
    "\\end{bmatrix} \\\\\n",
    "~ & \\mathbf{x} \\in \\{0,1 \\}^{11}\n",
    "\\end{array}\n",
    "$$"
   ]
  },
  {
   "attachments": {},
   "cell_type": "markdown",
   "metadata": {},
   "source": [
    "First we would write this problem as a an unconstrained one by penalizing the linear constraints as quadratics in the objective.\n",
    "Let's first define the problem parameters."
   ]
  },
  {
   "cell_type": "code",
   "execution_count": null,
   "metadata": {},
   "outputs": [],
   "source": [
    "A = [\n",
    "    1 0 0 1 1 1 0 1 1 1 1\n",
    "    0 1 0 1 0 1 1 0 1 1 1\n",
    "    0 0 1 0 1 0 1 1 1 1 1\n",
    "]\n",
    "b = [1, 1, 1]\n",
    "c = [2, 4, 4, 4, 4, 4, 5, 4, 5, 6, 5];"
   ]
  },
  {
   "attachments": {},
   "cell_type": "markdown",
   "metadata": {},
   "source": [
    "In order to define the $\\mathbf{Q}$ matrix, we first write the problem\n",
    "\n",
    "$$\n",
    "\\begin{array}{rl}\n",
    "    \\displaystyle%\n",
    "    \\min_{\\mathbf{x}} &\\mathbf{c}' \\mathbf{x} \\\\\n",
    "    \\textrm{s.t.}     & \\mathbf{A}\\mathbf{x} = \\mathbf{b} \\\\\n",
    "    ~                 & \\mathbf{x} \\in \\{0,1 \\}^{11}\n",
    "\\end{array}\n",
    "$$\n",
    "\n",
    "as follows:\n",
    "\n",
    "$$\n",
    "\\begin{array}{rl}\n",
    "    \\displaystyle%\n",
    "    \\min_{\\mathbf{x}} & \\mathbf{c}' \\mathbf{x} + \\rho (\\mathbf{A}\\mathbf{x}-\\mathbf{b})' (\\mathbf{A}\\mathbf{x}-\\mathbf{b}) \\\\\n",
    "    \\textrm{s.t.}     & \\mathbf{x} \\in \\{0,1 \\}^{11}\n",
    "\\end{array}\n",
    "$$\n",
    "\n",
    "Exploiting the fact that $x^2=x$ for $x \\in \\{0,1\\}$, we can make the linear terms appear in the diagonal of the $\\mathbf{Q}$ matrix.\n",
    "\n",
    "$$\n",
    "\\rho(\\mathbf{A}\\mathbf{x}-\\mathbf{b})'(\\mathbf{A}\\mathbf{x}-\\mathbf{b}) = \\rho( \\mathbf{x}'(\\mathbf{A}'\\mathbf{A}) \\mathbf{x} - 2(\\mathbf{A}'\\mathbf{b}) \\mathbf{x} + \\mathbf{b}'\\mathbf{b} )\n",
    "$$\n",
    "\n",
    "For this problem in particular, one can prove that a reasonable penalization factor is given by $\\rho = \\sum_{i=1}^n |c_i| + \\epsilon$ with $\\epsilon > 0$."
   ]
  },
  {
   "cell_type": "code",
   "execution_count": null,
   "metadata": {},
   "outputs": [],
   "source": [
    "using LinearAlgebra"
   ]
  },
  {
   "cell_type": "code",
   "execution_count": null,
   "metadata": {},
   "outputs": [],
   "source": [
    "ϵ = 1\n",
    "ρ = sum(abs, c) + ϵ\n",
    "Q = diagm(c) + ρ * (A'A - 2 * diagm(A'b))\n",
    "β = ρ * b'b\n",
    "\n",
    "display(Q)\n",
    "println(β)"
   ]
  },
  {
   "attachments": {},
   "cell_type": "markdown",
   "metadata": {},
   "source": [
    "We can visualize the graph that defines this instance using the Q matrix as the adjacency matrix of a graph."
   ]
  },
  {
   "cell_type": "code",
   "execution_count": null,
   "metadata": {},
   "outputs": [],
   "source": [
    "using Graphs"
   ]
  },
  {
   "cell_type": "code",
   "execution_count": null,
   "metadata": {},
   "outputs": [],
   "source": [
    "G = SimpleGraph(Q)"
   ]
  },
  {
   "cell_type": "code",
   "execution_count": null,
   "metadata": {},
   "outputs": [],
   "source": [
    "using Karnak"
   ]
  },
  {
   "cell_type": "code",
   "execution_count": null,
   "metadata": {},
   "outputs": [],
   "source": [
    "@drawsvg(\n",
    "    begin\n",
    "        sethue(\"black\")\n",
    "        background(\"white\")\n",
    "        drawgraph(\n",
    "            G;\n",
    "            margin       = 80,\n",
    "            vertexlabels = 1:11,\n",
    "        )\n",
    "    end,\n",
    "    400, 400\n",
    ")"
   ]
  },
  {
   "attachments": {},
   "cell_type": "markdown",
   "metadata": {},
   "source": [
    "Let's define a QUBO model and then solve it via simulated annealing."
   ]
  },
  {
   "cell_type": "code",
   "execution_count": null,
   "metadata": {},
   "outputs": [],
   "source": [
    "using JuMP\n",
    "using QUBO\n",
    "using DWaveNeal"
   ]
  },
  {
   "cell_type": "code",
   "execution_count": null,
   "metadata": {},
   "outputs": [],
   "source": [
    "# Define empty model\n",
    "qubo_model = Model()\n",
    "\n",
    "# Define the variables\n",
    "@variable(qubo_model, x[1:11], Bin)\n",
    "\n",
    "# Define the objective function\n",
    "@objective(qubo_model, Min, x' * Q * x + β)\n",
    "\n",
    "# Print the model\n",
    "print(qubo_model)"
   ]
  },
  {
   "cell_type": "code",
   "execution_count": null,
   "metadata": {},
   "outputs": [],
   "source": [
    "set_optimizer(qubo_model, DWaveNeal.Optimizer)\n",
    "\n",
    "set_optimizer_attribute(qubo_model, \"num_reads\", 1_000)\n",
    "\n",
    "optimize!(qubo_model)\n",
    "\n",
    "println(\"Minimum energy: $(objective_value(qubo_model))\")"
   ]
  },
  {
   "cell_type": "code",
   "execution_count": null,
   "metadata": {},
   "outputs": [],
   "source": [
    "using Plots"
   ]
  },
  {
   "cell_type": "code",
   "execution_count": null,
   "metadata": {},
   "outputs": [],
   "source": [
    "QUBOTools.sampleset(unsafe_backend(qubo_model)) |> plot"
   ]
  },
  {
   "attachments": {},
   "cell_type": "markdown",
   "metadata": {},
   "source": [
    "Notice that this is the same example we have been solving earlier (via Integer Programming in the Quiz 2, via Ising model and QUBO in Notebook 2)."
   ]
  },
  {
   "attachments": {},
   "cell_type": "markdown",
   "metadata": {},
   "source": [
    "## Now let's solve this using Quantum Annealing!\n",
    "\n",
    "First, we start by defining the `DWAVE_API_TOKEN` environment variable."
   ]
  },
  {
   "cell_type": "code",
   "execution_count": 14,
   "metadata": {},
   "outputs": [],
   "source": [
    "ENV[\"DWAVE_API_TOKEN\"] = \"<YOUR_KEY_HERE>\";"
   ]
  },
  {
   "cell_type": "code",
   "execution_count": null,
   "metadata": {},
   "outputs": [],
   "source": [
    "using DWave"
   ]
  },
  {
   "cell_type": "code",
   "execution_count": null,
   "metadata": {},
   "outputs": [],
   "source": [
    "set_optimizer(qubo_model, DWave.Optimizer)\n",
    "\n",
    "set_optimizer_attribute(qubo_model, \"num_reads\", 1024)\n",
    "\n",
    "optimize!(qubo_model)\n",
    "\n",
    "println(\"Minimum energy: $(objective_value(qubo_model))\")"
   ]
  },
  {
   "cell_type": "code",
   "execution_count": null,
   "metadata": {},
   "outputs": [],
   "source": [
    "QUBOTools.sampleset(unsafe_backend(qubo_model)) |> plot"
   ]
  },
  {
   "cell_type": "code",
   "execution_count": null,
   "metadata": {},
   "outputs": [],
   "source": [
    "# Graph corresponding to D-Wave 2000Q\n",
    "sampler = DWave.dwave_system.DWaveSampler(token = ENV[\"DWAVE_API_TOKEN\"])"
   ]
  },
  {
   "cell_type": "code",
   "execution_count": null,
   "metadata": {},
   "outputs": [],
   "source": [
    "function get_topology(sampler)\n",
    "    qpu_edges = sampler.edgelist\n",
    "    qpu_nodes = sampler.nodelist\n",
    "\n",
    "    println(\"Solver ID = '$(sampler.solver.id)'\")\n",
    "    println(\"Number of qubits = $(length(qpu_nodes))\")\n",
    "    println(\"Number of couplers = $(length(qpu_edges))\")\n",
    "\n",
    "    if string(sampler.solver.id) == \"DW_2000Q_6\"\n",
    "        χ = DWave.dwave_networkx.chimera_graph(16, node_list=qpu_nodes, edge_list=qpu_edges)\n",
    "\n",
    "        return (χ, :chimera)\n",
    "    elseif string(sampler.solver.id) == \"Advantage_system1.1\"\n",
    "        χ = DWave.dwave_networkx.pegasus_graph(16, node_list=qpu_nodes, edge_list=qpu_edges)\n",
    "        \n",
    "        return (χ, :pegasus)\n",
    "    elseif string(sampler.solver.id) == \"Advantage_system4.1\"\n",
    "        χ = DWave.dwave_networkx.pegasus_graph(16, node_list=qpu_nodes, edge_list=qpu_edges)\n",
    "        \n",
    "        return (χ, :pegasus)\n",
    "    else\n",
    "        @warn \"Unknown solver id '$(sampler.solver.id)'\"\n",
    "\n",
    "        return (nothing, nothing)\n",
    "    end\n",
    "end\n",
    "\n",
    "function draw_topology(sampler)\n",
    "    χ, arch = get_topology(sampler)\n",
    "\n",
    "    if arch === nothing\n",
    "        return nothing\n",
    "    elseif arch === :chimera\n",
    "        # @time DWave.dwave_networkx.draw_chimera(χ, node_size=1)\n",
    "        return nothing # DWave.plt.show()\n",
    "    elseif arch === :pegasus\n",
    "        # @time DWave.dwave_networkx.draw_pegasus(χ, node_size=1)\n",
    "        return nothing # DWave.plt.show()\n",
    "    else\n",
    "        return nothing\n",
    "    end\n",
    "end\n",
    "\n",
    "draw_topology(sampler)"
   ]
  },
  {
   "cell_type": "code",
   "execution_count": null,
   "metadata": {},
   "outputs": [],
   "source": [
    "s = QUBOTools.sampleset(unsafe_backend(qubo_model))"
   ]
  },
  {
   "cell_type": "code",
   "execution_count": null,
   "metadata": {},
   "outputs": [],
   "source": [
    "data = QUBOTools.metadata(s)\n",
    "info = get(data, \"dwave_info\", nothing)"
   ]
  },
  {
   "cell_type": "markdown",
   "metadata": {},
   "source": [
    "Now we can play with the other parameters such as Annealing time, chain strenght, and annealing schedule to improve the performance of D-Wave's Quantum Annealing."
   ]
  },
  {
   "cell_type": "markdown",
   "metadata": {},
   "source": [
    "# References\n",
    "\n",
    "- [Julia Colab Notebook Template](https://colab.research.google.com/github/ageron/julia_notebooks/blob/master/Julia_Colab_Notebook_Template.ipynb)\n",
    "- [QuIPML22](https://github.com/bernalde/QuIPML22/)"
   ]
  },
  {
   "cell_type": "markdown",
   "metadata": {},
   "source": [
    "<a name=\"installation\" id=\"installation\"></a>\n",
    "\n",
    "# Installation\n",
    "\n",
    "## Colab Instructions\n",
    "\n",
    "If not in a Colab notebook, continue to the next section.\n",
    "\n",
    "1. Work on a copy of this notebook: _File_ > _Save a copy in Drive_ (you will need a Google account). Alternatively, you can download the notebook using _File_ > _Download .ipynb_, then upload it to [Colab](https://colab.research.google.com/).\n",
    "2. Execute the following cell (click on it and press Ctrl+Enter) to install Julia, IJulia and other required packages. This can take a couple of minutes.\n",
    "3. Reload this page (press Ctrl+R, or ⌘+R, or the F5 key) and continue to the next section.\n",
    "\n",
    "If your Colab Runtime gets reset (e.g., due to inactivity), repeat steps 2 and 3."
   ]
  },
  {
   "cell_type": "code",
   "execution_count": null,
   "metadata": {},
   "outputs": [],
   "source": [
    "%%shell\n",
    "\n",
    "bash <(curl -s \"https://raw.githubusercontent.com/pedromxavier/QUBO-notebooks/main/scripts/install-colab-julia.sh\")"
   ]
  },
  {
   "cell_type": "markdown",
   "metadata": {},
   "source": [
    "## Validate Installation"
   ]
  },
  {
   "cell_type": "code",
   "execution_count": null,
   "metadata": {},
   "outputs": [],
   "source": [
    "versioninfo()"
   ]
  },
  {
   "cell_type": "markdown",
   "metadata": {},
   "source": [
    "## Local Installation Instructions\n",
    "\n",
    "If you don't have a Julia installation yet, consider using [juliaup](https://github.com/JuliaLang/juliaup).\n",
    "Otherwise, run the next cell to install the necessary packages.\n",
    "\n",
    "### Install Julia Packages"
   ]
  },
  {
   "cell_type": "code",
   "execution_count": null,
   "metadata": {},
   "outputs": [],
   "source": [
    "import Pkg\n",
    "\n",
    "Pkg.activate(@__DIR__)\n",
    "Pkg.instantiate(; io = devnull) # Suppress Output"
   ]
  },
  {
   "cell_type": "markdown",
   "metadata": {},
   "source": [
    "<div align=\"center\">\n",
    "    <a href=\"#top\">🔝 Go back to the top 🔝</a>\n",
    "</div>"
   ]
  }
 ],
 "metadata": {
  "kernelspec": {
   "display_name": "Julia 1.9.1",
   "language": "julia",
   "name": "julia-1.9"
  },
  "language_info": {
   "file_extension": ".jl",
   "mimetype": "application/julia",
   "name": "julia",
   "version": "1.9.1"
  },
  "orig_nbformat": 4
 },
 "nbformat": 4,
 "nbformat_minor": 2
}
