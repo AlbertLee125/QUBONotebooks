{
 "cells": [
  {
   "cell_type": "markdown",
   "metadata": {},
   "source": [
    "<a name=\"top\" id=\"top\"></a>\n",
    "\n",
    "<div align=\"center\">\n",
    "    <h1>QUBO &amp; Ising Models</h1>\n",
    "    <a href=\"https://github.com/bernalde\">David E. Bernal Neira</a>\n",
    "    <br>\n",
    "    <i>Davidson School of Chemical Engineering, Purdue University</i>\n",
    "    <br>\n",
    "    <i>Universities Space Research Association</i>\n",
    "    <br>\n",
    "    <i>NASA QuAIL</i>\n",
    "    <br>\n",
    "    <br>\n",
    "    <a href=\"https://github.com/pedromxavier\">Pedro Maciel Xavier</a>\n",
    "    <br>\n",
    "    <i>Davidson School of Chemical Engineering, Purdue University</i>\n",
    "    <br>\n",
    "    <i>Computer Science &amp; Systems Engineering Program, Federal University of Rio de Janeiro</i>\n",
    "    <br>\n",
    "    <i>PSR Energy Consulting &amp; Analytics</i>\n",
    "    <br>\n",
    "    <br>\n",
    "    <a href=\"https://github.com/murraybj\">Benjamin J. L. Murray</a>\n",
    "    <br>\n",
    "    <i>Davidson School of Chemical Engineering, Purdue University</i>\n",
    "    <br>\n",
    "    <i>Undergraduate Research Assistant</i>\n",
    "    <br>\n",
    "    <br>\n",
    "    <a href=\"https://colab.research.google.com/github/SECQUOIA/QUBONotebooks/blob/main/notebooks_py/2-QUBO_python.ipynb\" target=\"_parent\">\n",
    "        <img src=\"https://colab.research.google.com/assets/colab-badge.svg\" alt=\"Open In Colab\"/>\n",
    "    </a>\n",
    "    <a href=\"#installation\">\n",
    "        <img src=\"https://img.shields.io/badge/⚙️-Installation_Instructions-blue\" alt=\"Installation Instructions\"/>\n",
    "    </a>\n",
    "    <a href=\"https://bernalde.github.io/\">\n",
    "        <img src=\"https://img.shields.io/badge/⚗️-Bernal_Lab-blue\" alt=\"Bernal Lab\"/>\n",
    "    </a>\n",
    "</div>"
   ]
  },
  {
   "cell_type": "markdown",
   "metadata": {},
   "source": [
    "## Quadratic Unconstrained Binary Optimization\n",
    "This notebook will explain the basics of the QUBO modeling. In order to implement the different QUBOs we will use D-Wave's packages **[dimod](https://github.com/dwavesystems/dimod)**, and then solve them using **[neal](https://github.com/dwavesystems/dwave-neal)**'s implementation of simulated annealing.\n",
    "We will also leverage the use of D-Wave's package **[dwavebinarycsp](https://github.com/dwavesystems/dwavebinarycsp)** to translate constraint satisfaction problems to QUBOs. Finally, for Groebner basis computations we will use **[Sympy](https://www.sympy.org/)** for symbolic computation in Python and **[Networkx](https://networkx.github.io/)** for network models/graphs."
   ]
  },
  {
   "cell_type": "markdown",
   "metadata": {},
   "source": [
    "#### Problem statement\n",
    "We define a QUBO as the following optimization problem:\n",
    "$$\n",
    "\\min_{x \\in \\{0,1 \\}^n} \\sum_{(ij) \\in E(G)} Q_{ij}x_i x_j + \\sum_{i \\in V(G)}Q_{ii}x_i + c_Q = \\min_{x \\in \\{0,1 \\}^n}  x^\\top Q x + c_Q\n",
    "$$\n",
    "where we optimize over binary variables $x \\in \\{ 0,1 \\}^n$, on a constrained graph $G(V,E)$ defined by an adjacency matrix $Q$. We also include an arbitrary offset  $c_Q$."
   ]
  },
  {
   "cell_type": "markdown",
   "metadata": {},
   "source": [
    "### Example\n",
    "Suppose we want to solve the following problem via QUBO\n",
    "$$\n",
    "\\min_{\\mathbf{x}} 2𝑥_0+4𝑥_1+4𝑥_2+4𝑥_3+4𝑥_4+4𝑥_5+5𝑥_6+4𝑥_7+5𝑥_8+6𝑥_9+5𝑥_{10} \\\\\n",
    "s.t. \\begin{bmatrix}\n",
    "1 & 0 & 0 & 1 & 1 & 1 & 0 & 1 & 1 & 1 & 1\\\\\n",
    "0 & 1 & 0 & 1 & 0 & 1 & 1 & 0 & 1 & 1 & 1\\\\\n",
    "0 & 0 & 1 & 0 & 1 & 0 & 1 & 1 & 1 & 1 & 1\n",
    "\\end{bmatrix}\\mathbf{x}=\n",
    "\\begin{bmatrix}\n",
    "1\\\\\n",
    "1\\\\\n",
    "1\n",
    "\\end{bmatrix} \\\\\n",
    "\\mathbf{x} \\in \\{0,1 \\}^{11}\n",
    "$$\n"
   ]
  },
  {
   "cell_type": "code",
   "execution_count": null,
   "metadata": {},
   "outputs": [],
   "source": [
    "# If using this on Google collab, we need to install the packages\n",
    "try:\n",
    "  import google.colab\n",
    "  IN_COLAB = True\n",
    "except:\n",
    "  IN_COLAB = False\n",
    "\n",
    "# Let's install with dimod and neal\n",
    "if IN_COLAB:\n",
    "    !pip install -q pyomo\n",
    "    !pip install dimod\n",
    "    !pip install dwave-neal"
   ]
  },
  {
   "cell_type": "code",
   "execution_count": null,
   "metadata": {},
   "outputs": [],
   "source": [
    "# Import the Pyomo library, which can be installed via pip, conda or from Github https://github.com/Pyomo/pyomo\n",
    "import pyomo.environ as pyo\n",
    "# Import the Dwave packages dimod and neal\n",
    "import dimod\n",
    "import neal\n",
    "# Import Matplotlib to generate plots\n",
    "import matplotlib.pyplot as plt\n",
    "# Import numpy and scipy for certain numerical calculations below\n",
    "import numpy as np\n",
    "from scipy.special import gamma\n",
    "import math\n",
    "from collections import Counter\n",
    "import pandas as pd\n",
    "from itertools import chain\n",
    "import time\n",
    "import networkx as nx"
   ]
  },
  {
   "cell_type": "markdown",
   "metadata": {},
   "source": [
    "First we would write this problem as a an unconstrained one by penalizing the linear constraints as quadratics in the objective. Let's first define the problem parameters"
   ]
  },
  {
   "cell_type": "code",
   "execution_count": null,
   "metadata": {},
   "outputs": [],
   "source": [
    "A = np.array([[1, 0, 0, 1, 1, 1, 0, 1, 1, 1, 1],\n",
    "            [0, 1, 0, 1, 0, 1, 1, 0, 1, 1, 1],\n",
    "            [0, 0, 1, 0, 1, 0, 1, 1, 1, 1, 1]])\n",
    "b = np.array([1, 1, 1])\n",
    "c = np.array([2, 4, 4, 4, 4, 4, 5, 4, 5,6, 5])\n"
   ]
  },
  {
   "cell_type": "markdown",
   "metadata": {},
   "source": [
    "In order to define the $\\mathbf{Q}$ matrix, we first write the problem\n",
    "\n",
    "$$\n",
    "\\begin{array}{rl}\n",
    "    \\displaystyle%\n",
    "    \\min_{\\mathbf{x}} &\\mathbf{c}' \\mathbf{x} \\\\\n",
    "    \\textrm{s.t.}     & \\mathbf{A}\\mathbf{x} = \\mathbf{b} \\\\\n",
    "    ~                 & \\mathbf{x} \\in \\{0,1 \\}^{11}\n",
    "\\end{array}\n",
    "$$\n",
    "\n",
    "as follows:\n",
    "\n",
    "$$\n",
    "\\begin{array}{rl}\n",
    "    \\displaystyle%\n",
    "    \\min_{\\mathbf{x}} & \\mathbf{c}' \\mathbf{x} + \\rho (\\mathbf{A}\\mathbf{x}-\\mathbf{b})' (\\mathbf{A}\\mathbf{x}-\\mathbf{b}) \\\\\n",
    "    \\textrm{s.t.}     & \\mathbf{x} \\in \\{0,1 \\}^{11}\n",
    "\\end{array}\n",
    "$$\n",
    "\n",
    "Exploiting the fact that $x^2=x$ for $x \\in \\{0,1\\}$, we can make the linear terms appear in the diagonal of the $\\mathbf{Q}$ matrix.\n",
    "\n",
    "$$\n",
    "\\rho(\\mathbf{A}\\mathbf{x}-\\mathbf{b})'(\\mathbf{A}\\mathbf{x}-\\mathbf{b}) = \\rho( \\mathbf{x}'(\\mathbf{A}'\\mathbf{A}) \\mathbf{x} - 2(\\mathbf{A}'\\mathbf{b}) \\mathbf{x} + \\mathbf{b}'\\mathbf{b} )\n",
    "$$\n",
    "\n",
    "For this problem in particular, one can prove that a reasonable penalization factor is given by $\\rho = \\sum_{i=1}^n |c_i| + \\epsilon$ with $\\epsilon > 0$."
   ]
  },
  {
   "cell_type": "code",
   "execution_count": null,
   "metadata": {},
   "outputs": [],
   "source": [
    "rho = np.sum(np.abs(c)) + 1\n",
    "Q = rho*np.matmul(A.T,A)\n",
    "Q += np.diag(c)\n",
    "Q -= rho*2*np.diag(np.matmul(b.T,A))\n",
    "cQ = rho*np.matmul(b.T,b)\n",
    "print(Q)\n",
    "print(cQ)"
   ]
  },
  {
   "cell_type": "markdown",
   "metadata": {},
   "source": [
    "We can visualize the graph that defines this instance using the Q matrix as the adjacency matrix of a graph."
   ]
  },
  {
   "cell_type": "code",
   "execution_count": null,
   "metadata": {},
   "outputs": [],
   "source": [
    "G = nx.from_numpy_array(Q)\n",
    "nx.draw(G, with_labels=True)"
   ]
  },
  {
   "cell_type": "markdown",
   "metadata": {},
   "source": [
    "Let's define a QUBO model and then solve it via simulated annealing."
   ]
  },
  {
   "cell_type": "code",
   "execution_count": null,
   "metadata": {},
   "outputs": [],
   "source": [
    "model = dimod.BinaryQuadraticModel.from_qubo(Q, offset=cQ)\n",
    "print(model)"
   ]
  },
  {
   "cell_type": "code",
   "execution_count": null,
   "metadata": {},
   "outputs": [],
   "source": [
    "def plot_enumerate(results, title=None):\n",
    "\n",
    "    plt.figure()\n",
    "\n",
    "    energies = [datum.energy for datum in results.data(\n",
    "        ['energy'], sorted_by=None)]\n",
    "    \n",
    "    if results.vartype == 'Vartype.BINARY':\n",
    "        samples = [''.join(c for c in str(datum.sample.values()).strip(\n",
    "            ', ') if c.isdigit()) for datum in results.data(['sample'], sorted_by=None)]\n",
    "        plt.xlabel('bitstring for solution')\n",
    "    else:\n",
    "        samples = np.arange(len(energies))\n",
    "        plt.xlabel('solution')\n",
    "\n",
    "    plt.bar(samples,energies)\n",
    "    plt.xticks(rotation=90)\n",
    "    plt.ylabel('Energy')\n",
    "    plt.title(str(title))\n",
    "    print(\"minimum energy:\", min(energies))\n",
    "\n",
    "\n",
    "def plot_energies(results, title=None):\n",
    "    energies = results.data_vectors['energy']\n",
    "    occurrences = results.data_vectors['num_occurrences']\n",
    "    counts = Counter(energies)\n",
    "    total = sum(occurrences)\n",
    "    counts = {}\n",
    "    for index, energy in enumerate(energies):\n",
    "        if energy in counts.keys():\n",
    "            counts[energy] += occurrences[index]\n",
    "        else:\n",
    "            counts[energy] = occurrences[index]\n",
    "    for key in counts:\n",
    "        counts[key] /= total\n",
    "    df = pd.DataFrame.from_dict(counts, orient='index').sort_index()\n",
    "    df.plot(kind='bar', legend=None)\n",
    "\n",
    "    plt.xlabel('Energy')\n",
    "    plt.ylabel('Probabilities')\n",
    "    plt.title(str(title))\n",
    "    plt.show()\n",
    "    print(\"minimum energy:\", min(energies))\n"
   ]
  },
  {
   "cell_type": "code",
   "execution_count": null,
   "metadata": {},
   "outputs": [],
   "source": [
    "simAnnSampler = neal.SimulatedAnnealingSampler()\n",
    "simAnnSamples = simAnnSampler.sample(model, num_reads=1000)"
   ]
  },
  {
   "cell_type": "code",
   "execution_count": null,
   "metadata": {},
   "outputs": [],
   "source": [
    "plot_enumerate(simAnnSamples, title='Simulated annealing in default parameters')\n",
    "plot_energies(simAnnSamples, title='Simulated annealing in default parameters')"
   ]
  },
  {
   "cell_type": "markdown",
   "metadata": {},
   "source": [
    "## Ising model\n",
    "\n",
    "This notebook will explain the basics of the Ising model.\n",
    "In order to implement the different Ising Models we will use **[JuMP](https://jump.dev)** and D-Wave's **[neal](https://github.com/dwavesystems/dwave-neal)**, for defining the Ising model and solving it with simulated annealing, respectively.\n",
    "When posing the problems as Integer programs, we will model using **[JuMP](https://jump.dev/)**, an open-source Julia package, which provides a flexible access to different solvers and a general modeling framework for linear and nonlinear integer programs.\n",
    "The examples solved here will make use of open-source solver **[GLPK](https://www.gnu.org/software/glpk/)** for mixed-integer linear programming."
   ]
  },
  {
   "cell_type": "markdown",
   "metadata": {},
   "source": [
    "### Problem statement\n",
    "\n",
    "We pose the Ising problem as the following optimization problem:\n",
    "\n",
    "$$\n",
    "\\min_{s \\in \\{ \\pm 1 \\}^n} H(s) = \\min_{s \\in \\{ \\pm 1 \\}^n} \\sum_{(i, j) \\in E(G)} J_{i,j}s_is_j + \\sum_{i \\in V(G)} h_is_i + \\beta\n",
    "$$\n",
    "\n",
    "where we optimize over spins $s \\in \\{ \\pm 1 \\}^n$, on a constrained graph $G(V,E)$, where the quadratic coefficients are $J_{i,j}$ and the linear coefficients are $h_i$.\n",
    "We also include an arbitrary offset of the Ising model $\\beta$."
   ]
  },
  {
   "cell_type": "markdown",
   "metadata": {},
   "source": [
    "### Example\n",
    "\n",
    "Suppose we have an Ising model defined from\n",
    "\n",
    "$$\n",
    "h = \\begin{bmatrix}\n",
    "145.0 \\\\ 122.0 \\\\ 122.0 \\\\ 266.0 \\\\ 266.0 \\\\ 266.0 \\\\ 242.5 \\\\ 266.0 \\\\ 386.5 \\\\ 387.0 \\\\ 386.5\n",
    "\\end{bmatrix},\n",
    "J = \\begin{bmatrix}\n",
    "0 & 0 & 0 & 24 & 24 & 24 & 24 & 24 & 24 & 24 & 24\\\\\n",
    "0 & 0 & 0 & 24 & 0 & 24 & 24 & 24 & 24 & 24 & 24\\\\\n",
    "0 & 0 & 0 & 0 & 24 & 0 & 24 & 24 & 24 & 24 & 24\\\\\n",
    "0 & 0 & 0 & 0 & 24 & 48 & 24 & 24 & 48 & 48 & 48\\\\\n",
    "0 & 0 & 0 & 0 & 0 & 24 & 24 & 48 & 48 & 48 & 48\\\\\n",
    "0 & 0 & 0 & 0 & 0 & 0 & 24 & 24 & 48 & 48 & 48\\\\\n",
    "0 & 0 & 0 & 0 & 0 & 0 & 0 & 24 & 48 & 48 & 48\\\\\n",
    "0 & 0 & 0 & 0 & 0 & 0 & 0 & 0 & 48 & 48 & 48\\\\\n",
    "0 & 0 & 0 & 0 & 0 & 0 & 0 & 0 & 0 & 72 & 72\\\\\n",
    "0 & 0 & 0 & 0 & 0 & 0 & 0 & 0 & 0 & 0 & 72\\\\\n",
    "0 & 0 & 0 & 0 & 0 & 0 & 0 & 0 & 0 & 0 & 0\\\\\n",
    "\\end{bmatrix} \\text{ and }\n",
    "\\beta = 1319.5\n",
    "$$\n",
    "Let's solve this problem"
   ]
  },
  {
   "cell_type": "code",
   "execution_count": null,
   "metadata": {},
   "outputs": [],
   "source": [
    "# These could also be simple lists and numpy matrices\n",
    "h = {0: 145.0, 1: 122.0, 2: 122.0, 3: 266.0, 4: 266.0, 5: 266.0, 6: 242.5, 7: 266.0, 8: 386.5, 9: 387.0, 10: 386.5}\n",
    "J = {(0, 3): 24.0, (0, 4): 24.0, (0, 5): 24.0, (0, 7): 24.0, (0, 8): 24.0, (0, 9): 24.0, (0, 10): 24.0, (1, 3): 24.0, (1, 5): 24.0, (1, 6): 24.0, (1, 8): 24.0, (1, 9): 24.0, (1, 10): 24.0, (2, 4): 24.0, (2, 6): 24.0, (2, 7): 24.0, (2, 8): 24.0, (2, 9): 24.0, (2, 10): 24.0, (3, 4): 24.0, (3, 5): 48.0, (3, 6): 24.0, (3, 7): 24.0, (3, 8): 48.0, (3, 9): 48.0, (3, 10): 48.0, (4, 5): 24.0, (4, 6): 24.0, (4, 7): 48.0, (4, 8): 48.0, (4, 9): 48.0, (4, 10): 48.0, (5, 6): 24.0, (5, 7): 24.0, (5, 8): 48.0, (5, 9): 48.0, (5, 10): 48.0, (6, 7): 24.0, (6, 8): 48.0, (6, 9): 48.0, (6, 10): 48.0, (7, 8): 48.0, (7, 9): 48.0, (7, 10): 48.0, (8, 9): 72.0, (8, 10): 72.0, (9, 10): 72.0}\n",
    "cI = 1319.5\n",
    "\n",
    "model_ising = dimod.BinaryQuadraticModel.from_ising(h, J, offset=cI)\n",
    "\n"
   ]
  },
  {
   "cell_type": "markdown",
   "metadata": {},
   "source": [
    "Since the problem is relatively small (11 variables, $2^{11}=2048$ combinations), we can afford to enumerate all the solutions."
   ]
  },
  {
   "cell_type": "code",
   "execution_count": null,
   "metadata": {},
   "outputs": [],
   "source": [
    "exactSampler = dimod.reference.samplers.ExactSolver()\n",
    "exactSamples = exactSampler.sample(model_ising)"
   ]
  },
  {
   "cell_type": "code",
   "execution_count": null,
   "metadata": {},
   "outputs": [],
   "source": [
    "plot_enumerate(exactSamples, title='Enumerate all solutions')\n",
    "plot_energies(exactSamples, title='Enumerate all solutions')"
   ]
  },
  {
   "cell_type": "markdown",
   "metadata": {},
   "source": [
    "Let's now solve this Ising Model via traditional Integer Programming."
   ]
  },
  {
   "cell_type": "code",
   "execution_count": null,
   "metadata": {},
   "outputs": [],
   "source": [
    "# We do not need to worry about the tranformation from Ising to QUBO since dimod takes care of it\n",
    "Q, c = model_ising.to_qubo()\n",
    "\n",
    "# Define the model\n",
    "model = pyo.ConcreteModel(name='Ising example as an IP, 47-779 QuIP')\n",
    "\n",
    "I = range(len(h))\n",
    "J = range(len(h))\n",
    "#Define the original variables\n",
    "model.x = pyo.Var(I, domain=pyo.Binary)\n",
    "# Define the edges variables\n",
    "model.y = pyo.Var(I, J, domain=pyo.Binary)\n",
    "\n",
    "obj_expr = c\n",
    "\n",
    "# add model constraints\n",
    "model.c1 = pyo.ConstraintList()\n",
    "model.c2 = pyo.ConstraintList()\n",
    "model.c3 = pyo.ConstraintList()\n",
    "for (i,j) in Q.keys():\n",
    "    if i != j:\n",
    "        model.c1.add(model.y[i,j] >= model.x[i] + model.x[j] - 1)\n",
    "        model.c2.add(model.y[i,j] <= model.x[i])\n",
    "        model.c3.add(model.y[i,j] <= model.x[j])\n",
    "        obj_expr += Q[i,j]*model.y[i,j]\n",
    "    else:\n",
    "        obj_expr += Q[i,j]*model.x[i]\n",
    "\n",
    "# Define the objective function\n",
    "model.objective = pyo.Objective(expr = obj_expr, sense=pyo.minimize)\n",
    "# Print the model\n",
    "model.pprint()"
   ]
  },
  {
   "cell_type": "code",
   "execution_count": null,
   "metadata": {},
   "outputs": [],
   "source": [
    "# Let's install the MIP solver CBC\n",
    "if IN_COLAB:\n",
    "    !apt-get install -y -qq coinor-cbc"
   ]
  },
  {
   "cell_type": "code",
   "execution_count": null,
   "metadata": {},
   "outputs": [],
   "source": [
    "# Define the solver GLPK\n",
    "if IN_COLAB:\n",
    "    opt_cbc = pyo.SolverFactory('cbc', executable='/usr/bin/cbc')\n",
    "else:\n",
    "    opt_cbc = pyo.SolverFactory('cbc')\n",
    "# Here we could use another solver, e.g. gurobi or cplex\n",
    "# opt_gurobi = pyo.SolverFactory('gurobi')"
   ]
  },
  {
   "cell_type": "code",
   "execution_count": null,
   "metadata": {},
   "outputs": [],
   "source": [
    "# We obtain the same solution with CBC\n",
    "result_obj = opt_cbc.solve(model, tee=False)\n",
    "model.display()"
   ]
  },
  {
   "cell_type": "markdown",
   "metadata": {},
   "source": [
    "We observe that the optimal solution of this problem is $x_{8} = 1, 0$ otherwise, leading to an objective of $5$. Notice that this problem has a degenerate optimal solution given that $x_8 = 1, 0$ otherwise also leads to the same solution."
   ]
  },
  {
   "cell_type": "markdown",
   "metadata": {},
   "source": [
    "We can also solve this problem using Simulated Annealing"
   ]
  },
  {
   "cell_type": "code",
   "execution_count": null,
   "metadata": {},
   "outputs": [],
   "source": [
    "simAnnSampler = neal.SimulatedAnnealingSampler()\n",
    "simAnnSamples = simAnnSampler.sample(model_ising, num_reads=1000)"
   ]
  },
  {
   "cell_type": "code",
   "execution_count": null,
   "metadata": {},
   "outputs": [],
   "source": [
    "plot_enumerate(simAnnSamples, title='Simulated annealing in default parameters')\n",
    "plot_energies(simAnnSamples, title='Simulated annealing in default parameters')"
   ]
  },
  {
   "cell_type": "markdown",
   "metadata": {},
   "source": [
    "We are going to use the default limits of temperature given by the simulating annealling code. These are defined using the minimum and maximum nonzero coefficients in the Ising model. Then the range for beta is defined as $\\beta \\in \\left[ \\frac{\\log(2)}{\\max \\{ \\Delta E \\} },\\frac{\\log(100)}{\\min \\{ \\Delta E \\} } \\right]$, where $\\Delta E = \\min \\{h_i \\} + \\sum_j J_{ij}+J_{ji}$.\n",
    "\n",
    "Hot temperature: We want to scale hot_beta so that for the most unlikely qubit flip, we get at least 50% chance of flipping. (This means all other qubits will have > 50% chance of flipping initially). Most unlikely flip is when we go from a very low energy state to a high energy state, thus we calculate hot_beta based on max_delta_energy.\n",
    "$$\n",
    "0.50 = \\exp(-\\overline{\\beta} * \\max \\{ \\Delta E \\})\n",
    "$$\n",
    "\n",
    "Cold temperature: Towards the end of the annealing schedule, we want to minimize the chance of flipping. Don't want to be stuck between small energy tweaks. Hence, set cold_beta so that at minimum energy change, the chance of flipping is set to 1%.\n",
    "$$\n",
    "0.01 = \\exp(-\\underline{\\beta} * \\min \\{ \\Delta E \\})\n",
    "$$\n",
    "\n",
    "By default, the schedule also follows a geometric series."
   ]
  },
  {
   "cell_type": "code",
   "execution_count": null,
   "metadata": {},
   "outputs": [],
   "source": [
    "simAnnSamples.info"
   ]
  },
  {
   "cell_type": "markdown",
   "metadata": {},
   "source": [
    "## Let's go back to the slides"
   ]
  },
  {
   "cell_type": "markdown",
   "metadata": {},
   "source": [
    "Let's solve the graph coloring problem in the slides using QUBO.\n",
    "\n",
    "#### Vertex $k$-coloring of graphs\n",
    "\n",
    "Given a graph $G(V, E)$, where $V$ is the set of vertices and $E$ is the set of edges of $G$, and a positive integer $k$, we ask if it is possible to assign a color to every vertex from $V$, such that adjacent vertices have different colors assigned.\n",
    "\n",
    "$G(V, E)$ has $12$ vertices and $23$ edges.\n",
    "We ask if the graph is $3$–colorable.\n",
    "Let’s first encode $V$ and $E$ using Julia’s built–in data structures:"
   ]
  },
  {
   "cell_type": "markdown",
   "metadata": {},
   "source": [
    "**Note:** This tutorial is heavily inspired in D-Wave's Map coloring of Canada found **[here](https://docs.ocean.dwavesys.com/en/stable/examples/map_coloring.html)**."
   ]
  },
  {
   "cell_type": "code",
   "execution_count": null,
   "metadata": {},
   "outputs": [],
   "source": [
    "# Let's install with dimod and neal\n",
    "if IN_COLAB:\n",
    "    !pip install dwavebinarycsp\n",
    "    !pip install dwavebinarycsp[maxgap]\n",
    "    !pip install dwavebinarycsp[mip]\n",
    "\n",
    "import dwavebinarycsp"
   ]
  },
  {
   "cell_type": "code",
   "execution_count": null,
   "metadata": {},
   "outputs": [],
   "source": [
    "V = range(1, 12+1)\n",
    "E = [(1,2),(2,3),(1,4),(1,6),(1,12),(2,5),(2,7),(3,8),(3,10),(4,11),(4,9),(5,6),(6,7),(7,8),(8,9),(9,10),(10,11),(11,12),(5,12),(5,9),(6,10),(7,11),(8,12)]\n",
    "layout = {i: [np.cos((2*i+1)*np.pi/8),np.sin((2*i+1)*np.pi/8)] for i in np.arange(5,13)}\n",
    "layout[1] = [-1.5,1.5]\n",
    "layout[2] = [1.5,1.5]\n",
    "layout[3] = [1.5,-1.5]\n",
    "layout[4] = [-1.5,-1.5]\n",
    "G = nx.Graph()\n",
    "G.add_edges_from(E)\n",
    "nx.draw(G, with_labels=True, pos=layout)"
   ]
  },
  {
   "cell_type": "code",
   "execution_count": null,
   "metadata": {},
   "outputs": [],
   "source": [
    "# Function for the constraint that two nodes with a shared edge not both select\n",
    "# one color\n",
    "def not_both_1(v, u):\n",
    "    return not (v and u)\n",
    "\n",
    "# Valid configurations for the constraint that each node select a single color, in this case we want to use 3 colors\n",
    "one_color_configurations = {(0, 0, 1), (0, 1, 0), (1, 0, 0)}\n",
    "colors = len(one_color_configurations)\n",
    "\n",
    "# Create a binary constraint satisfaction problem\n",
    "csp = dwavebinarycsp.ConstraintSatisfactionProblem(dwavebinarycsp.BINARY)\n",
    "\n",
    "# Add constraint that each node select a single color\n",
    "for node in V:\n",
    "    variables = ['x'+str(node)+','+str(i) for i in range(colors)]\n",
    "    csp.add_constraint(one_color_configurations, variables)\n",
    "\n",
    "# Add constraint that each pair of nodes with a shared edge not both select one color\n",
    "for edge in E:\n",
    "    v, u = edge\n",
    "    for i in range(colors):\n",
    "        variables = ['x'+str(v)+','+str(i), 'x'+str(u)+','+str(i)]\n",
    "        csp.add_constraint(not_both_1, variables)"
   ]
  },
  {
   "cell_type": "markdown",
   "metadata": {},
   "source": [
    "Defining the Binary Quandratic model (QUBO) using the CSP library we have:"
   ]
  },
  {
   "cell_type": "code",
   "execution_count": null,
   "metadata": {},
   "outputs": [],
   "source": [
    "bqm = dwavebinarycsp.stitch(csp)\n",
    "simAnnSamples = simAnnSampler.sample(bqm, num_reads=1000)"
   ]
  },
  {
   "cell_type": "code",
   "execution_count": null,
   "metadata": {},
   "outputs": [],
   "source": [
    "plot_enumerate(simAnnSamples, title='Simulated annealing in default parameters')\n",
    "plot_energies(simAnnSamples, title='Simulated annealing in default parameters')"
   ]
  },
  {
   "cell_type": "markdown",
   "metadata": {},
   "source": [
    "Because of precision issues in the translation to BQM, we *may* obtain very tiny coefficeints that should be zero. In any case, since this is a constraint satisfaction problem, any of the solutions with energy ~0 is a valid coloring."
   ]
  },
  {
   "cell_type": "code",
   "execution_count": null,
   "metadata": {},
   "outputs": [],
   "source": [
    "# Check that a good solution was found\n",
    "sample = simAnnSamples.first.sample     # doctest: +SKIP\n",
    "if not csp.check(sample):           # doctest: +SKIP\n",
    "        print(\"Failed to color map. Try sampling again.\")\n",
    "else:\n",
    "        print(sample)"
   ]
  },
  {
   "cell_type": "code",
   "execution_count": null,
   "metadata": {},
   "outputs": [],
   "source": [
    "# Function that plots a returned sample\n",
    "def plot_map(sample):\n",
    "    # Translate from binary to integer color representation\n",
    "    color_map = {}\n",
    "    for node in V:\n",
    "          for i in range(colors):\n",
    "            if sample['x'+str(node)+','+str(i)]:\n",
    "                color_map[node] = i\n",
    "    # Plot the sample with color-coded nodes\n",
    "    node_colors = [color_map.get(node) for node in G.nodes()]\n",
    "    nx.draw(G, with_labels=True, pos=layout, node_color=node_colors)\n",
    "    plt.show()"
   ]
  },
  {
   "cell_type": "code",
   "execution_count": null,
   "metadata": {},
   "outputs": [],
   "source": [
    "plot_map(sample)"
   ]
  }
 ],
 "metadata": {
  "kernelspec": {
   "display_name": "Python 3",
   "language": "python",
   "name": "python3"
  },
  "language_info": {
   "codemirror_mode": {
    "name": "ipython",
    "version": 3
   },
   "file_extension": ".py",
   "mimetype": "text/x-python",
   "name": "python",
   "nbconvert_exporter": "python",
   "pygments_lexer": "ipython3",
   "version": "3.11.5"
  }
 },
 "nbformat": 4,
 "nbformat_minor": 2
}
