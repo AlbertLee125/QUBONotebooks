{
 "cells": [
  {
   "cell_type": "markdown",
   "metadata": {},
   "source": [
    "<a name=\"top\" id=\"top\"></a>\n",
    "\n",
    "<div align=\"center\">\n",
    "    <h1>Graver Augmentation Multiseed Algorithm</h1>\n",
    "    <a href=\"https://github.com/bernalde\">David E. Bernal Neira</a>\n",
    "    <br>\n",
    "    <i>Davidson School of Chemical Engineering, Purdue University</i>\n",
    "    <br>\n",
    "    <i>Universities Space Research Association</i>\n",
    "    <br>\n",
    "    <i>NASA QuAIL</i>\n",
    "    <br>\n",
    "    <br>\n",
    "    <a href=\"https://github.com/pedromxavier\">Pedro Maciel Xavier</a>\n",
    "    <br>\n",
    "    <i>Davidson School of Chemical Engineering, Purdue University</i>\n",
    "    <br>\n",
    "    <i>Computer Science &amp; Systems Engineering Program, Federal University of Rio de Janeiro</i>\n",
    "    <br>\n",
    "    <i>PSR Energy Consulting &amp; Analytics</i>\n",
    "    <br>\n",
    "    <br>\n",
    "    <a href=\"https://github.com/murraybj\">Benjamin J. L. Murray</a>\n",
    "    <br>\n",
    "    <i>Davidson School of Chemical Engineering, Purdue University</i>\n",
    "    <br>\n",
    "    <i>Undergraduate Research Assistant</i>\n",
    "    <br>\n",
    "    <br>\n",
    "    <a href=\"https://colab.research.google.com/github/SECQUOIA/QUBONotebooks/blob/main/notebooks_py/3-GAMA_python.ipynb\" target=\"_parent\">\n",
    "        <img src=\"https://colab.research.google.com/assets/colab-badge.svg\" alt=\"Open In Colab\"/>\n",
    "    </a>\n",
    "    <a href=\"#installation\">\n",
    "        <img src=\"https://img.shields.io/badge/⚙️-Installation_Instructions-blue\" alt=\"Installation Instructions\"/>\n",
    "    </a>\n",
    "    <a href=\"https://bernalde.github.io/\">\n",
    "        <img src=\"https://img.shields.io/badge/⚗️-Bernal_Lab-blue\" alt=\"Bernal Lab\"/>\n",
    "    </a>\n",
    "</div>"
   ]
  },
  {
   "cell_type": "markdown",
   "metadata": {},
   "source": [
    "This notebook makes simple computations of Graver basis. Because of the complexity of these computation, we suggest that for more complicated problems you install the excellent **[4ti2](https://4ti2.github.io/)** software, an open-source implementation of several routines useful for the study of integer programming through algebraic geometry. It can be used as a stand-alone library and call it from C++ or from Python. In python, there are two ways of accessing it, either through **[Sage](https://www.sagemath.org/)** (which is an open-source mathematics software) or directly compiling it and installing a thing called a **[Python wrapper](https://github.com/alfsan/Py4ti2)**"
   ]
  },
  {
   "cell_type": "markdown",
   "metadata": {},
   "source": [
    "## Introduction to GAMA\n",
    "\n",
    "The Graver Augmentation Multiseed Algorithm (GAMA) was proposed by [two](https://arxiv.org/abs/1902.04215) [papers](https://arxiv.org/abs/1907.10930) by Alghassi, Dridi, and Tayur from the CMU Quantum Computing group.\n",
    "The three main ingredients of this algorithm, designed to solve integer programs with linear constraints and nonlinear objective, are:\n",
    "\n",
    "- Computing the Graver basis (or a subset of it) of an integer program.\n",
    "- Performing an augmentation.\n",
    "- Given that only for certain objective functions, the Graver augmentation is guaranteed to find a globally optimal solution, the algorithm is initialized in several points.\n",
    "\n",
    "This algorithm can be adapted to take advantage of Quantum Computers by leveraging them as black-box Ising/QUBO problem solvers.\n",
    "In particular, obtaining several feasible solution points for the augmentation and computing the Kernel of the constraint matrix can be posed as QUBO problems.\n",
    "After obtaining these solutions, other routines implemented in classical computers are used to solve the optimization problems, making this a hybrid quantum-classical algorithm.\n",
    "\n",
    "### Introduction to Graver basis computation\n",
    "\n",
    "A Graver basis is defined as\n",
    "\n",
    "$$\n",
    "\\mathcal{G}(\\mathbf{A}) = \\bigcup_{j} \\mathcal{H}_{j}(\\mathbf{A})\n",
    "$$\n",
    "\n",
    "where $\\mathcal{H}_{j}(\\mathbf{A})$ are the minimal Hilbert basis of $\\mathbf{A}$ in each orthant.\n",
    "\n",
    "Equivalently we can define the Graver basis as the $\\sqsubseteq$-minimal set of a lattice\n",
    "\n",
    "$$\n",
    "\\mathcal{L}(\\mathbf{A}) = \\left\\lbrace{}{\\mathbf{x} : \\mathbf{A} \\mathbf{x} = 0, \\mathbf{x} \\in \\mathbb{Z}^{n}}\\right\\rbrace{} \\setminus \\left\\lbrace{}{0}\\right\\rbrace{} = \\ker A \\cap \\mathbb{Z}^{n}\n",
    "$$\n",
    "\n",
    "where the partial ordering $\\mathbf{x} \\sqsubseteq \\mathbf{y}$ holds whenever $x_i y_i \\geq 0$ and $\\left\\vert x_i \\right\\vert \\leq \\left\\vert y_i \\right\\vert$ for all $i$.\n",
    "\n",
    "Here we won't interact with the Quantum Computer.\n",
    "However, we will obtain the Graver basis of a problem using package 4ti2.\n",
    "This notebook studies the behavior of the search algorithm in the case that we only have available a subset of the Graver basis."
   ]
  },
  {
   "cell_type": "code",
   "execution_count": null,
   "metadata": {},
   "outputs": [],
   "source": [
    "try:\n",
    "  import google.colab\n",
    "  IN_COLAB = True\n",
    "except:\n",
    "  IN_COLAB = False\n",
    "\n",
    "if not IN_COLAB:\n",
    "  from Py4ti2int32 import *\n"
   ]
  },
  {
   "cell_type": "code",
   "execution_count": null,
   "metadata": {},
   "outputs": [],
   "source": [
    "from sympy import *\n",
    "import matplotlib.pyplot as plt\n",
    "import numpy as np\n",
    "from typing import Callable\n",
    "import itertools\n",
    "import random\n",
    "import time"
   ]
  },
  {
   "cell_type": "code",
   "execution_count": null,
   "metadata": {},
   "outputs": [],
   "source": [
    "# Define rules to choose augmentation element, either the best one (argmin) or the first one that is found\n",
    "def argmin(iterable):\n",
    "    return min(enumerate(iterable), key=lambda x: x[1])\n",
    "\n",
    "def greedy(iterable):\n",
    "    for i, val in enumerate(iterable):\n",
    "        if val[1] != 0:\n",
    "            return i, val\n",
    "    else:\n",
    "        return i, val"
   ]
  },
  {
   "cell_type": "code",
   "execution_count": null,
   "metadata": {},
   "outputs": [],
   "source": [
    "# Bisection rules for finding best step size\n",
    "def bisection(g: np.ndarray, fun: Callable, x: np.ndarray, x_lo: np.ndarray = None, x_up: np.ndarray = None, laststep: np.ndarray = None) -> (float, int):\n",
    "    if np.array_equal(g, laststep):\n",
    "        return (fun(x), 0)\n",
    "    if x_lo is None:\n",
    "        x_lo = np.zeros_like(x)\n",
    "    if x_up is None:\n",
    "        x_up = np.ones_like(x)*max(x)*2\n",
    "\n",
    "    u = max(x_up) - min(x_lo)\n",
    "    l = -(max(x_up) - min(x_lo))\n",
    "    for i, gi in enumerate(g):\n",
    "        if gi >= 1:\n",
    "            if np.floor((x_up[i] - x[i]) / gi) < u:\n",
    "                u = int(np.floor((x_up[i] - x[i]) / gi))\n",
    "            if np.ceil((x_lo[i] - x[i]) / gi) > l:\n",
    "                l = int(np.ceil((x_lo[i] - x[i]) / gi))\n",
    "        elif gi <= -1:\n",
    "            if np.ceil((x_up[i] - x[i]) / gi) > l:\n",
    "                l = int(np.ceil((x_up[i] - x[i]) / gi))\n",
    "            if np.floor((x_lo[i] - x[i]) / gi) < u:\n",
    "                u = int(np.floor((x_lo[i] - x[i]) / gi))\n",
    "    alpha = u\n",
    "\n",
    "    while u - l > 1:\n",
    "        if fun(x + l*g) < fun(x + u*g):\n",
    "            alpha = l\n",
    "        else:\n",
    "            alpha = u\n",
    "        p1 = int(np.floor((l+u)/2) - 1)\n",
    "        p2 = int(np.floor((l+u)/2))\n",
    "        p3 = int(np.floor((l+u)/2) + 1)\n",
    "        if fun(x + p1*g) < fun(x + p2*g):\n",
    "            u = int(np.floor((l+u)/2))\n",
    "        elif fun(x + p3*g) < fun(x + p2*g):\n",
    "            l = int(np.floor((l+u)/2) + 1)\n",
    "        else:\n",
    "            alpha = p2\n",
    "            break\n",
    "\n",
    "    if fun(x + l*g) < fun(x + u*g) and fun(x + l*g) < fun(x + alpha*g):\n",
    "        alpha = l\n",
    "    elif fun(x + u*g) < fun(x + alpha*g):\n",
    "        alpha = u\n",
    "\n",
    "    return (fun(x + alpha*g), alpha)"
   ]
  },
  {
   "cell_type": "code",
   "execution_count": null,
   "metadata": {},
   "outputs": [],
   "source": [
    "# We can just have a single step move (works well with greedy approach)\n",
    "def single_move(g: np.ndarray, fun: Callable, x: np.ndarray, x_lo: np.ndarray = None, x_up: np.ndarray = None, laststep: np.ndarray = None) -> (float, int):\n",
    "    if x_lo is None:\n",
    "        x_lo = np.zeros_like(x)\n",
    "    if x_up is None:\n",
    "        x_up = np.ones_like(x)*max(x)*2\n",
    "\n",
    "    alpha = 0\n",
    "\n",
    "    if (x + g <= x_up).all() and (x + g >= x_lo).all():\n",
    "        if fun(x + g) < fun(x):\n",
    "            alpha = 1\n",
    "    elif (x - g <= x_up).all() and (x - g >= x_lo).all():\n",
    "        if fun(x - g) < fun(x) and fun(x - g) < fun(x + g):\n",
    "            alpha = -1\n",
    "\n",
    "    return (fun(x + alpha*g), alpha)"
   ]
  },
  {
   "cell_type": "markdown",
   "metadata": {},
   "source": [
    "We will be solving EXAMPLE 4 in the code, which corresponds to the Case 2 in the original GAMA paper. The problem is derived from finance and deals with the maximization of expected returns on an investments and the minimization of the variance.\n",
    "$$\n",
    "\\min -\\sum_{i=1}^n \\mu_ix_i + \\sqrt{\\frac{1-\\epsilon}{\\epsilon}\\sum_{i=1}^n \\sigma_i^2 x_i^2} \\\\\n",
    "s.t. Ax = b, x \\in \\{-2,-1,-0,1,2 \\}^n\n",
    "$$\n",
    "This particular instance of convex INLP has $n=25, \\epsilon=0.01, \\mu_i = \\text{Rand}[0,1], \\sigma_i = \\text{Rand}[0,\\mu_i]$.\n",
    "The matrix $A$ is a matrix with 1's and 0's and the $b$ vector is half of the sum of the rows of $A$, in this case $b = (9,8,7,5,5)^\\top$.\n",
    "\n",
    "The Graver basis of this matrix $A$ has 29789 elements, which in a standard laptop using 4ti2 takes ~5 seeconds to compute. If you are in Colab you will import it from a file."
   ]
  },
  {
   "cell_type": "markdown",
   "metadata": {},
   "source": [
    "### Example\n",
    "\n",
    "Let\n",
    "\n",
    "$$\n",
    "A = \\begin{bmatrix}\n",
    "1 & 1 & 1 & 1 & 1 & 1 & 1 & 1 & 1 & 1 & 0 & 1 & 0 & 1 & 0 & 1 & 0 & 1 & 1 & 1 & 0 & 1 & 0 & 1 & 0 \\\\\n",
    "1 & 1 & 1 & 1 & 0 & 1 & 0 & 1 & 0 & 0 & 1 & 0 & 0 & 0 & 1 & 0 & 0 & 1 & 0 & 1 & 1 & 1 & 1 & 1 & 1 \\\\\n",
    "0 & 1 & 0 & 0 & 0 & 1 & 0 & 1 & 0 & 1 & 1 & 0 & 1 & 1 & 0 & 1 & 1 & 0 & 0 & 1 & 0 & 0 & 1 & 1 & 1 \\\\\n",
    "0 & 0 & 0 & 0 & 0 & 0 & 0 & 1 & 0 & 1 & 1 & 1 & 0 & 1 & 1 & 1 & 1 & 0 & 0 & 1 & 0 & 0 & 0 & 0 & 0 \\\\\n",
    "0 & 1 & 1 & 1 & 1 & 1 & 0 & 0 & 0 & 1 & 0 & 0 & 0 & 1 & 0 & 0 & 0 & 0 & 0 & 1 & 0 & 1 & 0 & 1 & 0 \\\\\n",
    "\\end{bmatrix}\n",
    "$$\n",
    "\n",
    "This particular instance of convex INLP has $m = 5$, $n = 25$, $\\varepsilon = 0.01$, $\\mu_{i} = \\textrm{rand}[0, 1]$, $\\sigma_{i} = \\textrm{rand}[0, \\mu_{i}]$.\n",
    "$A \\in \\mathbb{B}^{m \\times n}$ and each $b_{j}$ is half the sum of the $j$-th row of $A$.\n",
    "In this example, $\\mathbf{b} = \\left({9, 8, 7, 5, 5}\\right)'$."
   ]
  },
  {
   "cell_type": "code",
   "execution_count": null,
   "metadata": {},
   "outputs": [],
   "source": [
    "A = np.array([[1,1,1,1,1,1,1,1,1,1,0,1,0,1,0,1,0,1,1,1,0,1,0,1,0],\n",
    "            [1,1,1,1,0,1,0,1,0,0,1,0,0,0,1,0,0,1,0,1,1,1,1,1,1],\n",
    "            [0,1,0,0,0,1,0,1,0,1,1,0,1,1,0,1,1,0,0,1,0,0,1,1,1],\n",
    "            [0,0,0,0,0,0,0,1,0,1,1,1,0,1,1,1,1,0,0,1,0,0,0,0,0],\n",
    "            [0,1,1,1,1,1,0,0,0,1,0,0,0,1,0,0,0,0,0,1,0,1,0,1,0]])\n",
    "b = np.array([[9], [8], [7], [5], [5]])\n",
    "\n",
    "# Objective is quadratic expression\n",
    "x0 = np.array([1, 1, 1, 1, -1, 1, 1, 1, 1, 1, 1, 1, -2,\n",
    "            1, 0, -1, 0, 1, -1, 1, -2, -2, 1, 1, 1])\n",
    "x_lo = -2*np.ones_like(x0)\n",
    "x_up = 2*np.ones_like(x0)\n",
    "# Parameters of objective function\n",
    "epsilon = 0.01\n",
    "mu = np.random.rand(len(x0))\n",
    "sigma = np.multiply(np.random.rand(len(x0)),mu)\n",
    "if IN_COLAB:\n",
    "    print(\"The Graver basis has 29789 elements in this case\")\n",
    "    !wget -N -q \"https://github.com/SECQUOIA/QUBONotebooks/raw/main/notebooks_py/graver.npy\"\n",
    "    r = np.load(r'/content/graver.npy')\n",
    "    r = np.array(r)\n",
    "else:\n",
    "    start = time.process_time()\n",
    "    r = graver(\"mat\", A.tolist())\n",
    "    print(time.process_time() - start, 'seconds to compute Graver basis')\n",
    "    np.save(r'graver.npy', r)"
   ]
  },
  {
   "cell_type": "code",
   "execution_count": null,
   "metadata": {},
   "outputs": [],
   "source": [
    "# Objective function definition\n",
    "def f(x):\n",
    "    return -np.dot(mu, x) + np.sqrt(((1-epsilon)/epsilon)*np.dot(sigma**2, x**2))\n",
    "\n",
    "# Constraints definition\n",
    "def const(x):\n",
    "    return np.array_equiv(np.dot(A,x),b.T) or np.array_equiv(np.dot(A,x),b)\n"
   ]
  },
  {
   "cell_type": "code",
   "execution_count": null,
   "metadata": {},
   "outputs": [],
   "source": [
    "def augmentation(grav = r, func = f, x = x0, x_lo = x_lo, x_up = x_up, OPTION: int = 1, VERBOSE: bool = True, itermax: int = 1000) -> (int, float, np.ndarray):\n",
    "    # Let's perform the augmentation and return the number of steps and the best solution\n",
    "    # OPTION = 1 # Best augmentation, select using bisection rule\n",
    "    # OPTION = 2 # Greedy augmentation, select using bisection rule\n",
    "    # OPTION = 3 # Greedy augmentation, select using first found\n",
    "\n",
    "    dist = 1\n",
    "    gprev = None\n",
    "    k = 1\n",
    "    if VERBOSE:\n",
    "        print(\"Initial point:\", x)\n",
    "        print(\"Objective function:\",func(x))\n",
    "    while dist != 0 and k < itermax:\n",
    "        if OPTION == 1:\n",
    "            g1, (obj, dist) = argmin(\n",
    "                bisection(g=e, fun=func, x=x, laststep=gprev, x_lo=x_lo, x_up=x_up) for e in grav)\n",
    "        elif OPTION == 2:\n",
    "            g1, (obj, dist) = greedy(\n",
    "                bisection(g=e, fun=func, x=x, laststep=gprev, x_lo=x_lo, x_up=x_up) for e in grav)\n",
    "        elif OPTION == 3:    \n",
    "            g1, (obj, dist) = greedy(\n",
    "                single_move(g=e, fun=func, x=x, x_lo=x_lo, x_up=x_up) for e in grav)\n",
    "        else:\n",
    "            print(\"Option not implemented\")\n",
    "            break\n",
    "        x = x + grav[g1]*dist\n",
    "        gprev = grav[g1]\n",
    "        if VERBOSE:\n",
    "            print(\"Iteration \", k)\n",
    "            print(g1, (obj, dist))\n",
    "            print(\"Augmentation direction:\", gprev)\n",
    "            print(\"Distanced moved:\", dist)\n",
    "            print(\"Step taken:\", grav[g1]*dist)\n",
    "            print(\"Objective function:\", obj)\n",
    "            print(func(x))\n",
    "            print(\"Current point:\", x)\n",
    "            print(\"Are constraints satisfied?\", const(x))\n",
    "        else:\n",
    "            if k%50 == 0:\n",
    "                print(k)\n",
    "                print(obj)\n",
    "        k += 1\n",
    "    return(k,obj,x)"
   ]
  },
  {
   "cell_type": "markdown",
   "metadata": {},
   "source": [
    "First, we will prove our augmentation strategies, either best or greedy, and for greedy, either computing the best step or a single move. In the order that was mentioned, the augmentation will take more iterations, but each one of the augmentation steps or iterations is going to be cheaper."
   ]
  },
  {
   "cell_type": "code",
   "execution_count": null,
   "metadata": {},
   "outputs": [],
   "source": [
    "print('Best-augmentation: Choosing among the best step that each element of G can do (via bisection), the one that reduces the most the objective')\n",
    "start = time.process_time()\n",
    "iter,f_obj,xf = augmentation(func = f, OPTION=1,VERBOSE=False)\n",
    "print(time.process_time() - start, 'seconds')\n",
    "print(iter, 'iterations')\n",
    "print('solution:',f_obj,xf)\n",
    "\n",
    "print('Greedy-best-augmentation: Choosing among the best step that each element of G can do (via bisection), the first one encountered that reduces the objective')\n",
    "start = time.process_time()\n",
    "iter,f_obj,xf = augmentation(func = f, OPTION=2,VERBOSE=False)\n",
    "print(time.process_time() - start, 'seconds')\n",
    "print(iter, 'iterations')\n",
    "print('solution:',f_obj,xf)\n",
    "\n",
    "print('Greedy-augmentation: Choosing among the first element of G that with a single step reduces the objective')\n",
    "start = time.process_time()\n",
    "iter,f_obj,xf = augmentation(func = f, OPTION=3,VERBOSE=False)\n",
    "print(time.process_time() - start, 'seconds')\n",
    "print(iter, 'iterations')\n",
    "print('solution:',f_obj,xf)"
   ]
  },
  {
   "cell_type": "markdown",
   "metadata": {},
   "source": [
    "Now we can highlight another feature of the algorithm, computing starting feasible solutions. For this case we formulate a QUBO and solve it via annealing.\n",
    "In this particular case, we will not encode the integer variables and will only look feasible solutions in the case that $x \\in \\{0,1 \\}^n$"
   ]
  },
  {
   "cell_type": "code",
   "execution_count": null,
   "metadata": {},
   "outputs": [],
   "source": [
    "# Let's install with dimod and neal\n",
    "if IN_COLAB:\n",
    "    !pip install dimod\n",
    "    !pip install dwave-neal\n",
    "import dimod\n",
    "import neal"
   ]
  },
  {
   "cell_type": "code",
   "execution_count": null,
   "metadata": {},
   "outputs": [],
   "source": [
    "def get_feasible(A, b, sampler, samples=20):\n",
    "\n",
    "    AA = np.dot(A.T, A)\n",
    "    h = -2.0*np.dot(b.T, A)\n",
    "    Q = AA + np.diag(h[0])\n",
    "    offset = np.dot(b.T, b) + 0.0\n",
    "\n",
    "    # Define Binary Quadratic Model\n",
    "    bqm = dimod.BinaryQuadraticModel.from_numpy_matrix(mat=Q, offset=offset)\n",
    "\n",
    "    response = sampler.sample(bqm, num_reads=samples)\n",
    "\n",
    "    response = response.aggregate()\n",
    "\n",
    "    filter_idx = [i for i, e in enumerate(response.record.energy) if e == 0.0]\n",
    "\n",
    "    feas_sols = response.record.sample[filter_idx]\n",
    "\n",
    "    return feas_sols"
   ]
  },
  {
   "cell_type": "markdown",
   "metadata": {},
   "source": [
    "### Problem statement\n",
    "\n",
    "We pose the Ising problem as the following optimization problem:\n",
    "\n",
    "$$\n",
    "\\min_{s \\in \\{ \\pm 1 \\}^n} H(s) = \\min_{s \\in \\{ \\pm 1 \\}^n} \\sum_{(i, j) \\in E(G)} J_{i,j}s_is_j + \\sum_{i \\in V(G)} h_is_i + \\beta\n",
    "$$\n",
    "\n",
    "where we optimize over spins $s \\in \\{ \\pm 1 \\}^n$, on a constrained graph $G(V,E)$, where the quadratic coefficients are $J_{i,j}$ and the linear coefficients are $h_i$.\n",
    "We also include an arbitrary offset of the Ising model $\\beta$."
   ]
  },
  {
   "cell_type": "markdown",
   "metadata": {},
   "source": [
    "We will use simulated annealing to solve this QUBO. In this case we want a broad sample of different feasible solutions, so solving this QUBO via MIP is not a great idea."
   ]
  },
  {
   "cell_type": "code",
   "execution_count": null,
   "metadata": {},
   "outputs": [],
   "source": [
    "simAnnSampler = neal.SimulatedAnnealingSampler()"
   ]
  },
  {
   "cell_type": "code",
   "execution_count": null,
   "metadata": {},
   "outputs": [],
   "source": [
    "feas_sols = get_feasible(A, b, sampler=simAnnSampler, samples = 20)\n",
    "print(len(feas_sols), ' feasible solutions found.')"
   ]
  },
  {
   "cell_type": "markdown",
   "metadata": {},
   "source": [
    "We take 20 samples using simulated annealing and notice that most (if not all of them) are feasible and different. Let's now apply the augmentation procedure to each one of them and record the final objective and the number of iterations it takes. Here we will use the 3rd augmentation strategy (Greedy) because of runtime."
   ]
  },
  {
   "cell_type": "code",
   "execution_count": null,
   "metadata": {},
   "outputs": [],
   "source": [
    "init_obj = np.zeros((len(feas_sols),1))\n",
    "iters_full = np.zeros((len(feas_sols),1))\n",
    "final_obj_full = np.zeros((len(feas_sols),1))\n",
    "times_full = np.zeros((len(feas_sols),1))\n",
    "for i,sol in enumerate(feas_sols):\n",
    "    if not const(sol):\n",
    "        print(\"Infeasible\")\n",
    "        pass\n",
    "    init_obj[i] = f(sol)\n",
    "    start = time.process_time()\n",
    "    iter, f_obj, xf = augmentation(grav = r, func = f, x = sol, OPTION=3,VERBOSE=False)\n",
    "    times_full[i] = time.process_time() - start\n",
    "    iters_full[i] = iter\n",
    "    final_obj_full[i] = f_obj"
   ]
  },
  {
   "cell_type": "markdown",
   "metadata": {},
   "source": [
    "We record the initial objective function, the one after doing the augmentation, and the number of augmentation steps."
   ]
  },
  {
   "cell_type": "code",
   "execution_count": null,
   "metadata": {},
   "outputs": [],
   "source": [
    "fig, ax1 = plt.subplots()\n",
    "\n",
    "ax2 = ax1.twinx()\n",
    "\n",
    "ax1.plot(init_obj, marker='o', ls='-', label='Initial')\n",
    "ax1.plot(final_obj_full, marker='*', ls='-', label='Final')\n",
    "ax1.set_ylabel('Objective function')\n",
    "ax1.set_xlabel('Feasible solution')\n",
    "\n",
    "\n",
    "color = 'tab:green'\n",
    "ax2.set_ylabel('iterations', color=color)\n",
    "ax2.plot(iters_full, color=color, marker='s', ls='')\n",
    "ax2.tick_params(axis='y', labelcolor=color)\n",
    "ax1.legend()"
   ]
  },
  {
   "cell_type": "markdown",
   "metadata": {},
   "source": [
    "Notice that we reach the globally optimal solution regardless of the initial point and that even if the initial objective was closer to the optimal objective function, it might take more iterations to reach the optimum.\n",
    "\n",
    "Now let's try an extreme case, where we only have 10 of the elements of the Graver basis."
   ]
  },
  {
   "cell_type": "code",
   "execution_count": null,
   "metadata": {},
   "outputs": [],
   "source": [
    "n_draws = 10  # for 10 random indices\n",
    "index = np.random.choice(r.shape[0], n_draws, replace=False) \n",
    "\n",
    "iters_few = np.zeros((len(feas_sols),1))\n",
    "final_obj_few = np.zeros((len(feas_sols),1))\n",
    "times_few = np.zeros((len(feas_sols),1))\n",
    "for i, sol in enumerate(feas_sols):\n",
    "    if not const(sol):\n",
    "        print(\"Infeasible\")\n",
    "        pass\n",
    "    start = time.process_time()\n",
    "    iter, f_obj, xf = augmentation(grav = r[index], x = sol, func = f, OPTION=3,VERBOSE=False)\n",
    "    times_few[i] = time.process_time() - start\n",
    "    iters_few[i] = iter\n",
    "    final_obj_few[i] = f_obj"
   ]
  },
  {
   "cell_type": "code",
   "execution_count": null,
   "metadata": {},
   "outputs": [],
   "source": [
    "fig, ax1 = plt.subplots()\n",
    "\n",
    "ax2 = ax1.twinx()\n",
    "\n",
    "ax1.plot(init_obj, marker='o', ls='-', label='Initial')\n",
    "ax1.plot(final_obj_few, marker='*', ls='-', label='Final')\n",
    "ax1.set_ylabel('Objective function')\n",
    "ax1.set_xlabel('Feasible solution')\n",
    "\n",
    "\n",
    "color = 'tab:green'\n",
    "ax2.set_ylabel('iterations', color=color)\n",
    "ax2.plot(iters_few, color=color, marker='s', ls='')\n",
    "ax2.tick_params(axis='y', labelcolor=color)\n",
    "ax1.legend()"
   ]
  },
  {
   "cell_type": "markdown",
   "metadata": {},
   "source": [
    "Here we can barely improve the objective and can only perform a few iterations before we cannot improve the solution. But if we compare the runtimes in both cases, we find that..."
   ]
  },
  {
   "cell_type": "code",
   "execution_count": null,
   "metadata": {},
   "outputs": [],
   "source": [
    "fig, ax1 = plt.subplots()\n",
    "\n",
    "ax1.plot(times_full, marker='o', ls='-', label='Full Graver')\n",
    "ax1.plot(times_few, marker='*', ls='-', label='10 Graver elements')\n",
    "ax1.set_ylabel('Time [s]')\n",
    "ax1.set_xlabel('Feasible solution')\n",
    "plt.legend()"
   ]
  },
  {
   "cell_type": "markdown",
   "metadata": {},
   "source": [
    "...the time to do augmentation only having 10 choices is minimal. We can search for a sweet spot in between, with good solutions and little time."
   ]
  },
  {
   "cell_type": "code",
   "execution_count": null,
   "metadata": {},
   "outputs": [],
   "source": [
    "N = 10 # Discretization of the fractions of Graver considered\n",
    "iters = np.zeros((len(feas_sols),N-1))\n",
    "final_obj = np.zeros((len(feas_sols),N-1))\n",
    "times = np.zeros((len(feas_sols),N-1))\n",
    "for j in range(1,N):\n",
    "\n",
    "    n_draws = r.shape[0]//N*j  # for 10 random indices\n",
    "    index = np.random.choice(r.shape[0], n_draws, replace=False) \n",
    "\n",
    "    for i, sol in enumerate(feas_sols):\n",
    "        if not const(sol):\n",
    "            print(\"Infeasible\")\n",
    "            pass\n",
    "        start = time.process_time()\n",
    "        iter, f_obj, xf = augmentation(grav = r[index], x = sol, func = f, OPTION=3,VERBOSE=False)\n",
    "        times[i,j-1] = time.process_time() - start\n",
    "        iters[i,j-1] = iter\n",
    "        final_obj[i,j-1] = f_obj"
   ]
  },
  {
   "cell_type": "code",
   "execution_count": null,
   "metadata": {},
   "outputs": [],
   "source": [
    "fig, ax1 = plt.subplots()\n",
    "x_label = [str(int(100*i/N)/100) + '|G|' for i in range(1,N)]\n",
    "x_label.insert(0,'10 samples')\n",
    "x_label.append('|G|')\n",
    "x_label_obj = x_label[:]\n",
    "x_label_obj.insert(0,'initial')\n",
    "\n",
    "ax1.boxplot(np.hstack((init_obj, final_obj_few, final_obj, final_obj_full)))\n",
    "ax1.set_xticklabels(x_label_obj)\n",
    "plt.ylabel('Objective value')\n",
    "plt.xticks(rotation=45)"
   ]
  },
  {
   "cell_type": "code",
   "execution_count": null,
   "metadata": {},
   "outputs": [],
   "source": [
    "fig, ax1 = plt.subplots()\n",
    "\n",
    "ax1.boxplot(np.hstack((times_few, times, times_full)))\n",
    "ax1.set_xticklabels(x_label)\n",
    "plt.ylabel('Time [s]')\n",
    "plt.xticks(rotation=45)"
   ]
  },
  {
   "cell_type": "code",
   "execution_count": null,
   "metadata": {},
   "outputs": [],
   "source": [
    "fig, ax1 = plt.subplots()\n",
    "\n",
    "ax1.boxplot(np.hstack((iters_few, iters, iters_full)))\n",
    "ax1.set_xticklabels(x_label)\n",
    "plt.ylabel('Iterations')\n",
    "plt.xticks(rotation=45)"
   ]
  }
 ],
 "metadata": {
  "kernelspec": {
   "display_name": "Python 3",
   "language": "python",
   "name": "python3"
  },
  "language_info": {
   "codemirror_mode": {
    "name": "ipython",
    "version": 3
   },
   "file_extension": ".py",
   "mimetype": "text/x-python",
   "name": "python",
   "nbconvert_exporter": "python",
   "pygments_lexer": "ipython3",
   "version": "3.11.5"
  }
 },
 "nbformat": 4,
 "nbformat_minor": 2
}
