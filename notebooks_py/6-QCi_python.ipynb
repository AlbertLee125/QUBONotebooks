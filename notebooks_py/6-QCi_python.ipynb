{
 "cells": [
  {
   "cell_type": "markdown",
   "metadata": {},
   "source": [
    "<a name=\"top\" id=\"top\"></a>\n",
    "\n",
    "<div align=\"center\">\n",
    "    <h1>Entropy Computing via QCi</h1>\n",
    "    <a href=\"https://github.com/bernalde\">David E. Bernal Neira</a>\n",
    "    <br>\n",
    "    <i>Davidson School of Chemical Engineering, Purdue University</i>\n",
    "    <br>\n",
    "    <br>\n",
    "    <a href=\"https://github.com/AlbertLee125\">Albert Lee</a>\n",
    "    <br>\n",
    "    <i>Davidson School of Chemical Engineering, Purdue University</i>\n",
    "    <br>\n",
    "    <i>Graduate Research Assistant</i>\n",
    "    <br>\n",
    "    <br>\n",
    "    <a href=\"https://colab.research.google.com/github/AlbertLee125/QUBONotebooks/blob/main/notebooks_py/6-QCi_python.ipynb\" target=\"_parent\">\n",
    "        <img src=\"https://colab.research.google.com/assets/colab-badge.svg\" alt=\"Open In Colab\"/\n",
    "    </a>\n",
    "    <a href=\"https://secquoia.github.io/\">\n",
    "        <img src=\"https://img.shields.io/badge/🌲⚛️🌐-SECQUOIA-blue\" alt=\"SECQUOIA\"/>\n",
    "    </a>\n",
    "</div>"
   ]
  },
  {
   "cell_type": "markdown",
   "metadata": {},
   "source": [
    "## Entropy Computing via QCi\n",
    "This notebook provides an introduction to solving constrained optimization problems using **Quantum Computing Inc.'s (QCI) Entropy Quantum Computer**.\n",
    "We will define a **Constrained Quadratic Model** by setting up an objective function and a series of linear constraints. The notebook demonstrates how to:\n",
    "1.  Structure the problem using QCI's `eqc_models` library.\n",
    "2.  Submit the model to the `Dirac3IntegerCloudSolver` and `Dirac3ContinuousSolver` for processing.\n",
    "3.  Analyze the high-quality candidate solutions returned by the solver to find the optimal result.\n",
    "\n"
   ]
  },
  {
   "cell_type": "code",
   "execution_count": 1,
   "metadata": {},
   "outputs": [],
   "source": [
    "# If using this on Google colab, we need to install the packages\n",
    "try:\n",
    "  import google.colab\n",
    "  IN_COLAB = True\n",
    "except:\n",
    "  IN_COLAB = False\n",
    "\n",
    "if IN_COLAB:\n",
    "    !pip install eqc_models pyomo scip"
   ]
  },
  {
   "cell_type": "code",
   "execution_count": 2,
   "metadata": {},
   "outputs": [],
   "source": [
    "# Import the QCI models and solvers\n",
    "import eqc_models\n",
    "from eqc_models.base import ConstrainedPolynomialModel, PolynomialModel, QuadraticModel\n",
    "from eqc_models.solvers import Dirac3IntegerCloudSolver, Dirac3ContinuousCloudSolver\n",
    "\n",
    "# Import Matplotlib to generate plots\n",
    "import matplotlib.pyplot as plt\n",
    "import matplotlib.ticker as mticker\n",
    "\n",
    "# Import numpy and scipy for certain numerical calculations below\n",
    "import numpy as np\n",
    "from scipy.special import gamma\n",
    "import pyomo.environ as pyo"
   ]
  },
  {
   "cell_type": "markdown",
   "metadata": {},
   "source": [
    "### How Dirac-3 Works\n",
    "The **Dirac-3** solver is a cloud-based quantum solver that uses the **Entropy Quantum Computer** (EQC) to solve optimization problems.\n",
    "It encodes a problem into the physical properties of coherent light pulses, allowing it to represent and explore many potential solutions at once within its optical circuits. \n",
    "A controlled feedback loop, managed by electronics, interacts with the light to steer the system away from poor solutions. \n",
    "This process rapidly converges the system onto the single, lowest-energy state, which represents the optimal answer."
   ]
  },
  {
   "cell_type": "code",
   "execution_count": null,
   "metadata": {},
   "outputs": [],
   "source": [
    "# Define the API URL and token for QCI\n",
    "# Note: Replace the api_url and api_token with your actual QCI API URL and token\n",
    "api_url = \"https://api.qci-prod.com\" \n",
    "api_token = \"\""
   ]
  },
  {
   "cell_type": "markdown",
   "metadata": {},
   "source": [
    "### Solving Problems using Dirac-3\n",
    "\n",
    "Dirac-3 can solve combinatorial optimization problems using the follwing objective function, `E`, that has the following high-order polynomial structure:\n",
    "\n",
    "\\begin{equation*}\n",
    "E = \\sum_{i=1}^{N} C_i V_i + \\sum_{i,j=1}^{N,N} J_{ij} V_i V_j + \\sum_{i,j,k=1}^{N,N,N} T_{ijk} V_i V_j V_k + \\sum_{i,j,k,l=1}^{N,N,N,N} Q_{ijkl} V_i V_j V_k V_l + \\sum_{i,j,k,l,m=1}^{N,N,N,N,N} P_{ijklm} V_i V_j V_k V_l V_m \n",
    "\\end{equation*}\n",
    "\n",
    "$V_i$ refers to the value of nonnegative variable, and $C_i$, $J_{ij}$, $T_{ijk}$, $Q_{ijkl}$, and $P_{ijklm}$ are the coefficients of the objective function.\n",
    "The solver defaults to minimization. \n",
    "To solve a maximization problem, you should multiply the entire objective function by -1.\n",
    "\n",
    "### Continuous Solver\n",
    "\n",
    "The Dirac-3 continuous solver is particularly well-suited for this objective function, treating it as a **quasi-continuous optimization problem**.\n",
    "In this approach, the solver operates under the linear constraint\n",
    "\n",
    "\\begin{equation*}\n",
    "R = \\sum_{i=1}^{N} V_i, \\quad R \\in [1, 10000].\n",
    "\\end{equation*}\n",
    "\n",
    "Note that $R$ is a fixed value, which for this problem must be in the range of [1, 10000].\n",
    "\n",
    "Let's try to solve the following simple quadratic problem with linear constraints using the Dirac-3 continuous solver:\n",
    "\n",
    "\\begin{align*}\n",
    "\\min \\quad & E = 3 x_1^2 + 2 x_2^2 + x_3^2 \\\\\n",
    "\\text{s.t.} \\quad & x_1 + x_2 + x_3 = 10, \\\\\n",
    "& x_1, x_2, x_3 \\in [0, 10].\n",
    "\\end{align*}"
   ]
  },
  {
   "cell_type": "code",
   "execution_count": 4,
   "metadata": {},
   "outputs": [
    {
     "name": "stdout",
     "output_type": "stream",
     "text": [
      "\n",
      "==============================\n",
      "-- 📊 Optimization Results --\n",
      "Solver Status: ok\n",
      "Termination Condition: optimal\n",
      "Objective Value (E): 54.5455\n",
      "\n",
      "-- 🏗️ Variable Values --\n",
      "x[1] = 1.8183\n",
      "x[2] = 2.7272\n",
      "x[3] = 5.4545\n",
      "==============================\n"
     ]
    }
   ],
   "source": [
    "# 1. Create a concrete Pyomo model\n",
    "m = pyo.ConcreteModel(name=\"Simple_Quadratic_Program\")\n",
    "\n",
    "# 2. Define the decision variables with their bounds\n",
    "# The variables x_1, x_2, and x_3 are defined with bounds [0, 10].\n",
    "m.x = pyo.Var([1, 2, 3], domain=pyo.NonNegativeReals, bounds=(0, 10))\n",
    "\n",
    "# 3. Define the objective function\n",
    "# The objective is to minimize the quadratic expression.\n",
    "m.obj = pyo.Objective(\n",
    "    expr=3*m.x[1]**2 + 2*m.x[2]**2 + m.x[3]**2, \n",
    "    sense=pyo.minimize\n",
    ")\n",
    "\n",
    "# 4. Define the linear constraint\n",
    "# The sum of the variables must equal 10.\n",
    "m.c1 = pyo.Constraint(expr=m.x[1] + m.x[2] + m.x[3] == 10)\n",
    "\n",
    "# 5. Create a solver instance and solve the model\n",
    "# We specify 'scip' as the solver. 'tee=True' displays the solver's log.\n",
    "solver = pyo.SolverFactory('scip')\n",
    "results = solver.solve(m, tee=False)\n",
    "\n",
    "# 6. Display the optimization results\n",
    "print(\"\\n\" + \"=\"*30)\n",
    "print(\"-- 📊 Optimization Results --\")\n",
    "print(f\"Solver Status: {results.solver.status}\")\n",
    "print(f\"Termination Condition: {results.solver.termination_condition}\")\n",
    "print(f\"Objective Value (E): {pyo.value(m.obj):.4f}\")\n",
    "print(\"\\n-- 🏗️ Variable Values --\")\n",
    "for i in m.x:\n",
    "    print(f\"x[{i}] = {pyo.value(m.x[i]):.4f}\")\n",
    "print(\"=\"*30)"
   ]
  },
  {
   "cell_type": "markdown",
   "metadata": {},
   "source": [
    "#### Now let's solve this problem using the Dirac-3 continuous solver.\n",
    "#### 1. Defining the Objective Function\n",
    "\n",
    "The polynomial objective function, `E`, is defined by combining two lists: `coefficients` and `indices`.\n",
    "\n",
    "* `coefficients`: This list contains the numerical multiplier for each term in your objective function.\n",
    "\n",
    "    ```python\n",
    "    coefficients = [3, 2, 1] \n",
    "    ```\n",
    "\n",
    "* `indices`: This list of tuples specifies which variables are multiplied together for each term. The numbers in the tuples correspond to the variable indices (e.g., `1` for $x_1$, `2` for $x_2$).\n",
    "\n",
    "    ```python\n",
    "    # (1,1) -> x_1*x_1  |  (2,2) -> x_2*x_2  |  (3,3) -> x_3*x_3\n",
    "    indices = [(1,1), (2,2), (3,3)]\n",
    "    ```\n",
    "\n",
    "The `PolynomialModel` maps the `coefficients` to the `indices` in order, creating the full objective function:\n",
    "\n",
    "$E = \\underbrace{3}_{\\text{coef[0]}} \\cdot \\underbrace{x_1 x_1}_{\\text{idx[0]}} + \\underbrace{2}_{\\text{coef[1]}} \\cdot \\underbrace{x_2 x_2}_{\\text{idx[1]}} + \\underbrace{1}_{\\text{coef[2]}} \\cdot \\underbrace{x_3 x_3}_{\\text{idx[2]}}$\n",
    "\n",
    "### 2. Setting Constraints\n",
    "\n",
    "Constraints are handled in two different places:\n",
    "\n",
    "* **Variable Bounds** `upper_bound`: The individual upper bounds for each variable are set as an attribute on the `model` object *after* it has been created.\n",
    "\n",
    "    ```python\n",
    "    # Sets the upper bound for all 3 variables to 10\n",
    "    model.upper_bound = 10 * np.ones((3,))\n",
    "    ```"
   ]
  },
  {
   "cell_type": "code",
   "execution_count": 5,
   "metadata": {},
   "outputs": [],
   "source": [
    "R = 10\n",
    "coefficients = [3, 2, 1]\n",
    "indices = [(1,1), (2,2), (3,3)] # Create a polynomial model\n",
    "model = PolynomialModel(coefficients, indices)\n",
    "model.upper_bound = R*np.ones((3,)) # Bounds for the variables"
   ]
  },
  {
   "cell_type": "markdown",
   "metadata": {},
   "source": [
    "#### 3. Submitting the Model to the Solver\n",
    "When submitting the model to the solver, you need to provide several key parameters:\n",
    "\n",
    "* `sum_constraint`: The constraint on the sum of all variables ($R = \\sum V_i$) is a **required input** for the `solver.solve()` method.\n",
    "* `relaxation_schedule`: An integer from the set `{1, 2, 3, 4}` representing one of four predefined schedules. Higher values reduce variation in the analog spin values during the solving process and are more likely to result in a better objective function value.\n",
    "* `num_samples`: An integer specifying the number of independent solutions (samples) to be generated by the device.\n",
    "\n",
    "```python\n",
    "# The solver needs the value for R, the schedule, and number of samples\n",
    "response = solver.solve(\n",
    "    model, \n",
    "    sum_constraint=10, \n",
    "    relaxation_schedule=1, \n",
    "    num_samples=10\n",
    ")"
   ]
  },
  {
   "cell_type": "code",
   "execution_count": 6,
   "metadata": {},
   "outputs": [
    {
     "name": "stdout",
     "output_type": "stream",
     "text": [
      "2025-07-14 16:20:42 - Dirac allocation balance = 9645 s (unmetered)\n",
      "2025-07-14 16:20:42 - Job submitted: job_id='6875669932604586ad908760'\n",
      "2025-07-14 16:20:42 - QUEUED\n",
      "2025-07-14 16:20:45 - RUNNING\n",
      "2025-07-14 16:20:48 - COMPLETED\n",
      "2025-07-14 16:20:50 - Dirac allocation balance = 9645 s (unmetered)\n",
      "[[1.7829233, 2.6768489, 5.5402284], [1.8972523, 2.6886857, 5.4140615], [1.8612562, 2.7916689, 5.347075], [1.8199943, 2.6266539, 5.5533524], [1.8612251, 2.8046658, 5.3341098], [1.7301159, 2.6964464, 5.5734372], [1.9174838, 2.6145248, 5.4679909], [1.6853371, 2.6967218, 5.6179419], [1.704867, 2.9283574, 5.3667746], [1.9487836, 2.8355696, 5.2156467], [1.9114457, 2.8855994, 5.2029543], [1.6616733, 2.6506038, 5.6877227], [1.9512023, 2.8418746, 5.206923], [1.9994645, 2.7611291, 5.2394061], [1.8984122, 2.9056239, 5.1959648], [1.6846387, 2.9427762, 5.3725858], [1.7045575, 2.5500438, 5.745399], [1.8729267, 2.958262, 5.1688118], [1.926976, 2.9246662, 5.1483583], [1.7908694, 3.0171177, 5.1920128]]\n",
      "[54.5616188, 54.568821, 54.5708656, 54.5754814, 54.5775032, 54.5847511, 54.6006393, 54.6269722, 54.6725388, 54.6771545, 54.6849747, 54.6850662, 54.6861229, 54.6926193, 54.6952591, 54.6985664, 54.7316055, 54.7428055, 54.7526474, 54.7846336]\n",
      "[1, 1, 1, 1, 1, 1, 1, 1, 1, 1, 1, 1, 1, 1, 1, 1, 1, 1, 1, 1]\n"
     ]
    }
   ],
   "source": [
    "solver = Dirac3ContinuousCloudSolver(url=api_url, api_token=api_token)\n",
    "response = solver.solve(model, sum_constraint=10, relaxation_schedule=1, num_samples=20) # sum constraint is set to 10, 5 samples are collected\n",
    "\n",
    "# Print the results\n",
    "print(response[\"results\"][\"solutions\"])\n",
    "print(response[\"results\"][\"energies\"])\n",
    "print(response[\"results\"][\"counts\"])"
   ]
  },
  {
   "cell_type": "markdown",
   "metadata": {},
   "source": [
    "#### 4. Interpreting the Results\n",
    "The solver returns a dictionary containing job information and results. The optimal solution is found by identifying the result with the lowest \"energy\" (objective function value).\n",
    "The `response['results']` key contains three important lists that correspond to each other by index:\n",
    "\n",
    "* `solutions`: A list of all potential solutions. Each item is a list of variable values (e.g., `[x1, x2, x3]`).\n",
    "\n",
    "* `energies`: A list of the objective function values (`energies`) for each corresponding solution.\n",
    "\n",
    "* `counts`: A list of how many times each solution was found (typically 1 for unique solutions)."
   ]
  },
  {
   "cell_type": "code",
   "execution_count": 7,
   "metadata": {},
   "outputs": [
    {
     "name": "stdout",
     "output_type": "stream",
     "text": [
      "-- 📊 Best Solution Found --\n",
      "Optimal Objective (Energy): 54.5616\n",
      "Variable Values: [1.7829 2.6768 5.5402]\n"
     ]
    }
   ],
   "source": [
    "# Extract the results from the response\n",
    "results = response[\"results\"]\n",
    "energies = results[\"energies\"]\n",
    "solutions = results[\"solutions\"]\n",
    "\n",
    "# Find the index of the best solution (minimum energy)\n",
    "best_index = np.argmin(energies)\n",
    "\n",
    "# Get the best solution and its energy\n",
    "best_energy = energies[best_index]\n",
    "best_solution = solutions[best_index]\n",
    "\n",
    "# Print the results in a clear format\n",
    "print(\"-- 📊 Best Solution Found --\")\n",
    "print(f\"Optimal Objective (Energy): {best_energy:.4f}\")\n",
    "print(f\"Variable Values: {np.round(best_solution, 4)}\")\n"
   ]
  },
  {
   "cell_type": "markdown",
   "metadata": {},
   "source": [
    "### Integer Solver\n",
    "The Dirac-3 can solver unconstrained optimization problem. \n",
    "In this mode, the resulting state vector $V_i$ consists of integers:\n",
    "\n",
    "\\begin{equation*}\n",
    "V_i \\in \\mathbb{N}, \\quad 0 \\leq V_i \\leq 16\n",
    "\\end{equation*}\n",
    "\n",
    "For integer problems, you must define the number of possible states (or levels) for each variable. \n",
    "For instance, to model a standard Qudratic Unconstrained Binary Optimization problem, you would set the number of levels for each variable to 2. \n",
    "This restricts the variables to two possible states, 0 and 1, which is equivalent to defining a binary variable with an upper bound of 1.\n",
    "\n",
    "The solver is flexible, allowing for mixed encoding where some variables have 2 levels (binary) while others have more (up to 17 levels, for an upper bound of 16). \n",
    "If your problem requires more than 17 distinct states for any variable, the **continuous solver** is the recommended approach.\n",
    "\n",
    "Let's solve the simple QUBO problem given by the following objective function:\n",
    "\n",
    "\\begin{align*}\n",
    "\\min \\quad & E = -0.75 x_1^2 - 0.25 x_2^2 + 2 x_1 x_2 + 0.5 x_1 \\\\\n",
    "\\text{s.t.} \\quad & x_1, x_2 \\in \\{0,1\\} \\\\\n",
    "\\end{align*}"
   ]
  },
  {
   "cell_type": "code",
   "execution_count": 8,
   "metadata": {},
   "outputs": [
    {
     "name": "stdout",
     "output_type": "stream",
     "text": [
      "\n",
      "==============================\n",
      "-- 📊 Optimization Results --\n",
      "Solver Status: ok\n",
      "Termination Condition: optimal\n",
      "Objective Value: -0.2500\n",
      "\n",
      "-- 🏗️ Variable Values --\n",
      "x[1] = 1\n",
      "x[2] = 0\n",
      "==============================\n"
     ]
    }
   ],
   "source": [
    "# 1. Create a concrete Pyomo model\n",
    "m = pyo.ConcreteModel(name=\"Simple_QUBO\")\n",
    "\n",
    "# 2. Define the binary variables\n",
    "# x[1] and x[2] can only take values of 0 or 1.\n",
    "m.x = pyo.Var([1, 2], domain=pyo.Binary)\n",
    "\n",
    "# 3. Define the objective function\n",
    "# We use the property that for a binary variable x, x^2 = x.\n",
    "# So, the objective E = -0.75*x1^2 - 0.25*x2^2 + 2*x1*x2 + 0.5*x1 becomes:\n",
    "# E = -0.75*x1 - 0.25*x2 + 2*x1*x2\n",
    "m.obj = pyo.Objective(\n",
    "    expr= -0.75 * m.x[1] - 0.25 * m.x[2] + 2 * m.x[1] * m.x[2] + 0.5 * m.x[1],\n",
    "    sense=pyo.minimize\n",
    ")\n",
    "\n",
    "# 4. Create a solver instance and solve the model\n",
    "# This is an unconstrained problem, so no constraints are needed.\n",
    "# We use a Mixed-Integer Programming (MIP) solver like 'scip'.\n",
    "solver = pyo.SolverFactory('scip')\n",
    "results = solver.solve(m, tee=False)\n",
    "\n",
    "# 5. Display the optimization results\n",
    "print(\"\\n\" + \"=\"*30)\n",
    "print(\"-- 📊 Optimization Results --\")\n",
    "print(f\"Solver Status: {results.solver.status}\")\n",
    "print(f\"Termination Condition: {results.solver.termination_condition}\")\n",
    "print(f\"Objective Value: {pyo.value(m.obj):.4f}\")\n",
    "print(\"\\n-- 🏗️ Variable Values --\")\n",
    "for i in m.x:\n",
    "    print(f\"x[{i}] = {int(pyo.value(m.x[i]))}\")\n",
    "print(\"=\"*30)"
   ]
  },
  {
   "cell_type": "markdown",
   "metadata": {},
   "source": [
    "#### Now let's solve this problem using the Dirac-3 Integer solver.\n",
    "The problem's `coefficients` and `indices` are structured in the same way as they were for the continuous solver."
   ]
  },
  {
   "cell_type": "code",
   "execution_count": 9,
   "metadata": {},
   "outputs": [],
   "source": [
    "coefficients = [-0.75, -0.25, 2, 0.5]  # Coefficients for the polynomial model\n",
    "indices = [(1, 1), (2, 2), (1, 2), (0, 1)]  # Create a polynomial model\n",
    "model = PolynomialModel(coefficients, indices)\n",
    "\n",
    "# add upper bounds for the variables\n",
    "model.upper_bound = np.ones((2,))  # Bounds for the variables"
   ]
  },
  {
   "cell_type": "markdown",
   "metadata": {},
   "source": [
    "For integer and binary optimization problems, the sum_constraint is not necessary because `Dirac3IntegerCloudSover` operates in an unconstrained mode."
   ]
  },
  {
   "cell_type": "code",
   "execution_count": 10,
   "metadata": {},
   "outputs": [
    {
     "name": "stdout",
     "output_type": "stream",
     "text": [
      "2025-07-14 16:20:52 - Dirac allocation balance = 9645 s (unmetered)\n",
      "2025-07-14 16:20:52 - Job submitted: job_id='687566a332604586ad908761'\n",
      "2025-07-14 16:20:52 - QUEUED\n",
      "2025-07-14 16:20:55 - RUNNING\n",
      "2025-07-14 16:21:00 - COMPLETED\n",
      "2025-07-14 16:21:03 - Dirac allocation balance = 9645 s (unmetered)\n",
      "{'job_info': {'job_id': '687566a332604586ad908761', 'job_submission': {'problem_config': {'qudit_hamiltonian_optimization': {'polynomial_file_id': '687566a3acc178773e993158'}}, 'device_config': {'dirac-3_qudit': {'num_levels': [2, 2], 'num_samples': 10, 'relaxation_schedule': 1}}}, 'job_status': {'submitted_at_rfc3339nano': '2025-07-14T20:20:51.723Z', 'queued_at_rfc3339nano': '2025-07-14T20:20:51.724Z', 'running_at_rfc3339nano': '2025-07-14T20:20:51.82Z', 'completed_at_rfc3339nano': '2025-07-14T20:20:57.055Z'}, 'job_result': {'file_id': '687566a9acc178773e99315a', 'device_usage_s': 4}}, 'status': 'COMPLETED', 'results': {'counts': [9, 1], 'energies': [-0.25, -0.25], 'solutions': [[0, 1], [1, 0]]}}\n",
      "[[0, 1], [1, 0]]\n",
      "[-0.25, -0.25]\n",
      "[9, 1]\n"
     ]
    }
   ],
   "source": [
    "solver = Dirac3IntegerCloudSolver(url=api_url, api_token=api_token)\n",
    "response = solver.solve(model, relaxation_schedule=1, num_samples=10)\n",
    "\n",
    "# Print the results\n",
    "print(response)\n",
    "print(response[\"results\"][\"solutions\"])\n",
    "print(response[\"results\"][\"energies\"])\n",
    "print(response[\"results\"][\"counts\"])"
   ]
  },
  {
   "cell_type": "markdown",
   "metadata": {},
   "source": [
    "This code processes the solver's results by counting the frequency of each unique solution and then uses `matplotlib` to create a bar chart visualizing this distribution."
   ]
  },
  {
   "cell_type": "code",
   "execution_count": 11,
   "metadata": {},
   "outputs": [
    {
     "data": {
      "image/png": "[encoded data removed]",
      "text/plain": [
       "<Figure size 800x700 with 1 Axes>"
      ]
     },
     "metadata": {},
     "output_type": "display_data"
    }
   ],
   "source": [
    "def plot_solution_distribution(response):\n",
    "    \"\"\"\n",
    "    Processes a solver response and plots the distribution of unique solutions.\n",
    "\n",
    "    Args:\n",
    "        response (dict): The response dictionary from the Dirac-3 solver,\n",
    "                         containing 'solutions' and 'counts' in its 'results' key.\n",
    "    \"\"\"\n",
    "    # --- Data Processing ---\n",
    "    # Extract the raw results from the response dictionary\n",
    "    results = response.get('results', {})\n",
    "    raw_solutions = results.get('solutions', [])\n",
    "    raw_counts = results.get('counts', [])\n",
    "\n",
    "    if not raw_solutions or not raw_counts:\n",
    "        print(\"Response object does not contain valid solutions or counts.\")\n",
    "        return\n",
    "\n",
    "    # Aggregate counts for each unique solution\n",
    "    solution_counts = {}\n",
    "    for solution, count in zip(raw_solutions, raw_counts):\n",
    "        # Convert list to tuple to use it as a dictionary key\n",
    "        solution_tuple = tuple(solution)\n",
    "        solution_counts[solution_tuple] = solution_counts.get(solution_tuple, 0) + count\n",
    "\n",
    "    # Prepare data for plotting\n",
    "    # Create string labels for the x-axis from the solution tuples\n",
    "    plot_solutions_str = [str(list(s)) for s in solution_counts.keys()]\n",
    "    plot_counts = list(solution_counts.values())\n",
    "\n",
    "    # --- Plotting ---\n",
    "    plt.style.use('seaborn-v0_8-whitegrid')\n",
    "    fig, ax = plt.subplots(figsize=(8, 7)) # Increased height for rotated labels\n",
    "\n",
    "    # Create the bar plot\n",
    "    bars = ax.bar(plot_solutions_str, plot_counts, color='#4A90E2', width=0.5)\n",
    "\n",
    "    # Add labels and title for clarity\n",
    "    ax.set_xlabel(\"Solution\", fontsize=12, labelpad=15)\n",
    "    ax.set_ylabel(\"Counts (Frequency)\", fontsize=12)\n",
    "    ax.set_title(\"Distribution of Solutions\", fontsize=14, fontweight='bold')\n",
    "    \n",
    "    # Rotate x-axis labels to prevent overlap\n",
    "    plt.xticks(rotation=90)\n",
    "    \n",
    "    # Ensure the y-axis only displays integer values\n",
    "    ax.yaxis.set_major_locator(mticker.MaxNLocator(integer=True))\n",
    "\n",
    "    # Add count labels on top of each bar\n",
    "    for bar in bars:\n",
    "        yval = bar.get_height()\n",
    "        ax.text(bar.get_x() + bar.get_width()/2.0, yval + 0.1, int(yval), ha='center', va='bottom', fontsize=11)\n",
    "\n",
    "    # Set y-axis to start at 0 and give some space at the top\n",
    "    if plot_counts:\n",
    "        ax.set_ylim(0, max(plot_counts) * 1.15)\n",
    "\n",
    "    # Adjust layout to make room for rotated labels\n",
    "    plt.tight_layout()\n",
    "    plt.show()\n",
    "\n",
    "# Plot the distribution of unique solutions\n",
    "plot_solution_distribution(response)"
   ]
  },
  {
   "cell_type": "markdown",
   "metadata": {},
   "source": [
    "#### Solving Quadratic Unconstrained Binary Optimization (QUBO) Problems via Dirac-3 Integer Solver\n",
    "A Quadratic Unconstrained Binary Optimization (QUBO) problem is defined by the goal of minimizing the following objective function, `E`, over a set of binary variables:\n",
    "$$\n",
    "\\min_x \\quad E(x)=\\sum_i C_i x_i + \\sum_{ij} J_{ij} x_i x_j + c_Q\n",
    "$$\n",
    "\n",
    "where the variables $x_i$ are binary, i.e., $x_i \\in \\{0,1\\}$, where $C_i$ are the linear coefficients, $J_{ij}$ are the quadratic coefficients, and $c_Q$ is an offset term.\n",
    "The Dirac-3 Integer Solver is specifically designed to solve problems of this nature. \n",
    "To submit a QUBO problem, you provide the `C` and `J` Hamiltonians to the `QuadraticModel`. \n",
    "The constant offset $c_Q$ is not passed to the model directly; instead, it should be stored separately and added to the final energy value returned by the solver to get the true objective function value."
   ]
  },
  {
   "cell_type": "markdown",
   "metadata": {},
   "source": [
    "#### Example\n",
    "Suppose we want to solve the following linear integer problem via QUBO\n",
    "$$\n",
    "\\min_{\\mathbf{x}} 2𝑥_0+4𝑥_1+4𝑥_2+4𝑥_3+4𝑥_4+4𝑥_5+5𝑥_6+4𝑥_7+5𝑥_8+6𝑥_9+5𝑥_{10} \\\\\n",
    "s.t. \\begin{bmatrix}\n",
    "1 & 0 & 0 & 1 & 1 & 1 & 0 & 1 & 1 & 1 & 1\\\\\n",
    "0 & 1 & 0 & 1 & 0 & 1 & 1 & 0 & 1 & 1 & 1\\\\\n",
    "0 & 0 & 1 & 0 & 1 & 0 & 1 & 1 & 1 & 1 & 1\n",
    "\\end{bmatrix}\\mathbf{x}=\n",
    "\\begin{bmatrix}\n",
    "1\\\\\n",
    "1\\\\\n",
    "1\n",
    "\\end{bmatrix} \\\\\n",
    "\\mathbf{x} \\in \\{0,1 \\}^{11}\n",
    "$$\n"
   ]
  },
  {
   "cell_type": "markdown",
   "metadata": {},
   "source": [
    "First we would write this problem as a an unconstrained one by penalizing the linear constraints as quadratics in the objective. Let's first define the problem parameters"
   ]
  },
  {
   "cell_type": "code",
   "execution_count": 12,
   "metadata": {},
   "outputs": [],
   "source": [
    "A = np.array([[1, 0, 0, 1, 1, 1, 0, 1, 1, 1, 1],\n",
    "            [0, 1, 0, 1, 0, 1, 1, 0, 1, 1, 1],\n",
    "            [0, 0, 1, 0, 1, 0, 1, 1, 1, 1, 1]])\n",
    "b = np.array([1, 1, 1])\n",
    "c = np.array([2, 4, 4, 4, 4, 4, 5, 4, 5, 6, 5])\n",
    "num_variables = A.shape[1]"
   ]
  },
  {
   "cell_type": "markdown",
   "metadata": {},
   "source": [
    "Given the parameters, we can solve the problem using classical methods.\n",
    "However, we can also use the `eqc_models` library to solve this problem using the Dirac-3 Integer solver."
   ]
  },
  {
   "cell_type": "code",
   "execution_count": 13,
   "metadata": {},
   "outputs": [
    {
     "name": "stdout",
     "output_type": "stream",
     "text": [
      "\n",
      "========================================\n",
      "-- 📊 Optimization Results --\n",
      "Solver Status: ok\n",
      "Termination Condition: optimal\n",
      "Objective Value: 5.0000\n",
      "\n",
      "-- 🏗️ Variable Values --\n",
      "x = [0, 0, 0, 0, 0, 0, 0, 0, 1, 0, 0]\n"
     ]
    }
   ],
   "source": [
    "# Build a Pyomo model for the constrained linear integer program\n",
    "m = pyo.ConcreteModel(name=\"Constrained_Linear_Integer_Program\")\n",
    "\n",
    "# Define the set of variable indices\n",
    "m.I = pyo.RangeSet(0, num_variables - 1)\n",
    "# Define the set of constraint indices\n",
    "m.J = pyo.RangeSet(0, A.shape[0] - 1)\n",
    "\n",
    "# Define the 11 binary variables\n",
    "m.x = pyo.Var(m.I, domain=pyo.Binary)\n",
    "\n",
    "# Define the Objective Function\n",
    "# The objective is the original linear expression.\n",
    "m.obj = pyo.Objective(\n",
    "    expr=sum(c[i] * m.x[i] for i in m.I),\n",
    "    sense=pyo.minimize\n",
    ")\n",
    "\n",
    "# Define the constraints\n",
    "# We define a set of constraints Ax = b directly.\n",
    "def ax_constraint_rule(model, j):\n",
    "    # For each row j, sum(A[j,i] * x[i]) must equal b[j]\n",
    "    return sum(A[j, i] * model.x[i] for i in model.I) == b[j]\n",
    "\n",
    "m.constraints = pyo.Constraint(m.J, rule=ax_constraint_rule)\n",
    "\n",
    "# Solve the model\n",
    "# We use a Mixed-Integer Linear Programming (MILP) solver.\n",
    "solver = pyo.SolverFactory('scip')\n",
    "results = solver.solve(m, tee=False)\n",
    "\n",
    "# Display the optimization results\n",
    "print(\"\\n\" + \"=\"*40)\n",
    "print(\"-- 📊 Optimization Results --\")\n",
    "print(f\"Solver Status: {results.solver.status}\")\n",
    "print(f\"Termination Condition: {results.solver.termination_condition}\")\n",
    "print(f\"Objective Value: {pyo.value(m.obj):.4f}\")\n",
    "\n",
    "print(\"\\n-- 🏗️ Variable Values --\")\n",
    "solution_vector = [int(pyo.value(m.x[i])) for i in m.I]\n",
    "print(f\"x = {solution_vector}\")\n"
   ]
  },
  {
   "cell_type": "markdown",
   "metadata": {},
   "source": [
    "In order to define the `C` and `J` matrix, we reformulate the linear problem\n",
    "$$\n",
    "\\min_{\\mathbf{x}} \\mathbf{c}^\\top \\mathbf{x}\\\\\n",
    "s.t. \\mathbf{A}\\mathbf{x}=\\mathbf{b} \\\\\n",
    "\\mathbf{x} \\in \\{0,1 \\}^{11}\n",
    "$$\n",
    "as follows:\n",
    "$$\n",
    "\\min_{\\mathbf{x}} \\mathbf{c}^\\top \\mathbf{x} + \\rho(\\mathbf{A}\\mathbf{x}-\\mathbf{b})^\\top (\\mathbf{A}\\mathbf{x}-\\mathbf{b}) \\\\\n",
    "\\mathbf{x} \\in \\{0,1 \\}^{11}\n",
    "$$\n",
    "where $\\rho$ is a penalization factor that ensures the constraints are satisfied. \n",
    "\n",
    "The term $\\rho(\\mathbf{A}\\mathbf{x}-\\mathbf{b})^\\top (\\mathbf{A}\\mathbf{x}-\\mathbf{b})$ penalizes deviations from the constraints.\n",
    "$$\n",
    "\\rho(\\mathbf{A}\\mathbf{x}-\\mathbf{b})^\\top (\\mathbf{A}\\mathbf{x}-\\mathbf{b}) = \\rho( \\mathbf{x}^\\top (\\mathbf{A}^\\top \\mathbf{A}) \\mathbf{x} - 2\\mathbf{b}^\\top \\mathbf{A} \\mathbf{x} + \\mathbf{b}^\\top \\mathbf{b} )\n",
    "$$\n",
    "\n",
    "From this reformulation, we can derive the quadratic hamiltonian, linear hamiltonian and offset as follows:\n",
    "$$\n",
    "C = \\mathbf{c} - 2\\rho\\mathbf{A}^\\top \\mathbf{b}\n",
    "$$\n",
    "\n",
    "$$\n",
    "J = \\rho\\mathbf{A}^\\top \\mathbf{A}\n",
    "$$\n",
    "\n",
    "$$\n",
    "c_Q = \\rho(\\mathbf{b}^\\top \\mathbf{b})\n",
    "$$\n",
    "\n",
    "For this problem in particular, one can prove the the penalization factor is given by $\\rho > \\sum_{i=1}^n |c_i|$, therefore we choose this bound + 1."
   ]
  },
  {
   "cell_type": "code",
   "execution_count": 14,
   "metadata": {},
   "outputs": [
    {
     "name": "stdout",
     "output_type": "stream",
     "text": [
      "\n",
      "============================================================\n",
      "--- QUBO Formulation Parameters ---\n",
      "\n",
      "Quadratic Hamiltonian (J):\n",
      " [[ 48   0   0  48  48  48   0  48  48  48  48]\n",
      " [  0  48   0  48   0  48  48   0  48  48  48]\n",
      " [  0   0  48   0  48   0  48  48  48  48  48]\n",
      " [ 48  48   0  96  48  96  48  48  96  96  96]\n",
      " [ 48   0  48  48  96  48  48  96  96  96  96]\n",
      " [ 48  48   0  96  48  96  48  48  96  96  96]\n",
      " [  0  48  48  48  48  48  96  48  96  96  96]\n",
      " [ 48   0  48  48  96  48  48  96  96  96  96]\n",
      " [ 48  48  48  96  96  96  96  96 144 144 144]\n",
      " [ 48  48  48  96  96  96  96  96 144 144 144]\n",
      " [ 48  48  48  96  96  96  96  96 144 144 144]]\n",
      "\n",
      "------------------------------------------------------------\n",
      "\n",
      "Linear Hamiltonian (C):\n",
      " [ -94  -92  -92 -188 -188 -188 -187 -188 -283 -282 -283]\n",
      "\n",
      "------------------------------------------------------------\n",
      "\n",
      "Offset Term (cQ): 144.00\n",
      "\n",
      "============================================================\n"
     ]
    }
   ],
   "source": [
    "epsilon = 1 # small value to avoid division by zero\n",
    "rho = np.sum(np.abs(c)) + epsilon # penalty multiplier\n",
    "\n",
    "# Construct the quadratic Hamiltonian J\n",
    "J = rho*np.matmul(A.T,A)\n",
    "\n",
    "# Construct the linear Hamiltonian C\n",
    "C = c.copy()  \n",
    "C -= rho*2*(np.matmul(b.T,A))\n",
    "\n",
    "# Construct the offset term cQ\n",
    "cQ = rho*np.matmul(b.T,b)\n",
    "\n",
    "# --- Formatted Printing ---\n",
    "print(\"\\n\" + \"=\"*60)\n",
    "print(\"--- QUBO Formulation Parameters ---\")\n",
    "# Set numpy print options for better readability\n",
    "np.set_printoptions(precision=2, suppress=True)\n",
    "\n",
    "print(\"\\nQuadratic Hamiltonian (J):\\n\", J)\n",
    "print(\"\\n\" + \"-\"*60)\n",
    "print(\"\\nLinear Hamiltonian (C):\\n\", C)\n",
    "print(\"\\n\" + \"-\"*60)\n",
    "print(f\"\\nOffset Term (cQ): {cQ:.2f}\")\n",
    "print(\"\\n\" + \"=\"*60)\n"
   ]
  },
  {
   "cell_type": "markdown",
   "metadata": {},
   "source": [
    "Since the `QuadraticModel` cannot handle the offset term $c_Q$ directly, we will store it separately and add it to the final energy value returned by the solver to get the true objective function value."
   ]
  },
  {
   "cell_type": "code",
   "execution_count": 15,
   "metadata": {},
   "outputs": [
    {
     "name": "stdout",
     "output_type": "stream",
     "text": [
      "2025-07-14 16:21:04 - Dirac allocation balance = 9645 s (unmetered)\n",
      "2025-07-14 16:21:04 - Job submitted: job_id='687566b032604586ad908762'\n",
      "2025-07-14 16:21:05 - QUEUED\n",
      "2025-07-14 16:21:07 - RUNNING\n",
      "2025-07-14 16:21:20 - COMPLETED\n",
      "2025-07-14 16:21:23 - Dirac allocation balance = 9645 s (unmetered)\n",
      "Decoded Solution (x): [0 0 0 0 0 0 0 0 0 0 1]\n",
      "Objective Value (E): 5\n"
     ]
    }
   ],
   "source": [
    "model = QuadraticModel(C, J)\n",
    "model.upper_bound = np.ones((11, )) # Set the upper bound for the variables\n",
    "\n",
    "solver = Dirac3IntegerCloudSolver(url=api_url, api_token=api_token)\n",
    "Q = model.qubo.Q\n",
    "\n",
    "response = solver.solve(model, num_samples=10) # qubomodel\n",
    "\n",
    "solution = model.decode(np.array(response[\"results\"][\"solutions\"][0]), \"qubo\")\n",
    "\n",
    "true_solution = model.evaluate(solution) + cQ # add the offset term to get the true objective value\n",
    "\n",
    "print(f\"Decoded Solution (x): {solution}\")\n",
    "print(f\"Objective Value (E): {true_solution}\")"
   ]
  },
  {
   "cell_type": "code",
   "execution_count": 16,
   "metadata": {},
   "outputs": [
    {
     "data": {
      "image/png": "[encoded data removed]",
      "text/plain": [
       "<Figure size 800x700 with 1 Axes>"
      ]
     },
     "metadata": {},
     "output_type": "display_data"
    }
   ],
   "source": [
    "# Plot the distribution of unique solutions\n",
    "plot_solution_distribution(response)"
   ]
  },
  {
   "cell_type": "markdown",
   "metadata": {},
   "source": [
    "#### Solving the Problem in Constrained Polynomial Form\n",
    "We can now define the problem using the `ConstrainedPolynomialModel` class, which will automatically convert the linear constraints into a penalty function and combine them with the original objective. This approach avoids the need to manually construct a QUBO matrix.\n",
    "\n",
    "To use this model, we provide the objective and constraints separately:\n",
    "\n",
    "* `coefficients` and `indices`: These define the original linear objective function, $\\mathbf{c}^T \\mathbf{x}$ . The coefficients variable holds the vector c of costs, while indices specifies the variable for each corresponding coefficient.\n",
    "\n",
    "* `lhs` and `rhs`: These define the linear equality constraints, $\\mathbf{A} \\mathbf{x}=\\mathbf{b}$. The `lhs` variable is the left-hand-side matrix `A`, and `rhs` is the right-hand-side vector `b`."
   ]
  },
  {
   "cell_type": "code",
   "execution_count": 17,
   "metadata": {},
   "outputs": [
    {
     "name": "stdout",
     "output_type": "stream",
     "text": [
      "3\n",
      "2025-07-14 16:21:24 - Dirac allocation balance = 9645 s (unmetered)\n",
      "2025-07-14 16:21:25 - Job submitted: job_id='687566c432604586ad908763'\n",
      "2025-07-14 16:21:25 - QUEUED\n",
      "2025-07-14 16:21:27 - RUNNING\n",
      "2025-07-14 16:21:40 - COMPLETED\n",
      "2025-07-14 16:21:43 - Dirac allocation balance = 9645 s (unmetered)\n"
     ]
    }
   ],
   "source": [
    "coefficients = c\n",
    "num_vars = 11\n",
    "indices = [[0, i + 1] for i in range(num_vars)]\n",
    "\n",
    "lhs = A\n",
    "rhs = b\n",
    "\n",
    "# Create the constrained polynomial model\n",
    "constraint_model = ConstrainedPolynomialModel(coefficients, indices, lhs, rhs)\n",
    "constraint_model.upper_bound = np.ones(num_vars, ) # Set the upper bound for the variables\n",
    "# Set the penalty multiplier for the constraints\n",
    "# This is a crucial step to ensure the constraints are satisfied in the optimization process.\n",
    "constraint_model.penalty_multiplier = np.sum(np.abs(c)) + 1  # Set the penalty multiplier\n",
    "print(constraint_model.offset) # Offse term generated by the model\n",
    "\n",
    "solver = Dirac3IntegerCloudSolver(url=api_url, api_token=api_token)\n",
    "response = solver.solve(model, num_samples=10)\n"
   ]
  },
  {
   "cell_type": "code",
   "execution_count": 18,
   "metadata": {},
   "outputs": [
    {
     "data": {
      "image/png": "[encoded data removed]",
      "text/plain": [
       "<Figure size 800x700 with 1 Axes>"
      ]
     },
     "metadata": {},
     "output_type": "display_data"
    },
    {
     "name": "stdout",
     "output_type": "stream",
     "text": [
      "Best Solution: [0, 0, 0, 0, 0, 0, 0, 0, 1, 0, 0]\n",
      "Best Objective Value: 5\n"
     ]
    }
   ],
   "source": [
    "# plot the distribution of unique solutions\n",
    "plot_solution_distribution(response)\n",
    "\n",
    "# Extract the best solution and its objective value\n",
    "best_solution = response[\"results\"][\"solutions\"][0]\n",
    "best_objective_value = response[\"results\"][\"energies\"][0] + constraint_model.offset * constraint_model.penalty_multiplier \n",
    "# Add the offset term to get the true objective value\n",
    "\n",
    "print(f\"Best Solution: {best_solution}\")\n",
    "print(f\"Best Objective Value: {best_objective_value}\")"
   ]
  },
  {
   "cell_type": "markdown",
   "metadata": {},
   "source": [
    "#### References\n",
    "* Nguyen, L., et al. (2024). *Entropy Computing: A Paradigm for Optimization in an Open Quantum System*. arXiv preprint arXiv:2407.04512. Retrieved from [https://arxiv.org/abs/2407.04512](https://arxiv.org/abs/2407.04512)\n",
    "\n",
    "* Quantum Computing Inc. (2024). *Dirac-3 User Guide*. Retrieved from [https://quantumcomputinginc.com/learn/support/user-guides/dirac-3-user-guide](https://assets.ctfassets.net/i1dyhzbyi8ad/55XZTIVzzgNorw3OT6SrLF/af16f0e3148e18928afac9b310e72976/Dirac_3_Users_Guide_v0_02.pdf)"
   ]
  }
 ],
 "metadata": {
  "kernelspec": {
   "display_name": "stneqc",
   "language": "python",
   "name": "python3"
  },
  "language_info": {
   "codemirror_mode": {
    "name": "ipython",
    "version": 3
   },
   "file_extension": ".py",
   "mimetype": "text/x-python",
   "name": "python",
   "nbconvert_exporter": "python",
   "pygments_lexer": "ipython3",
   "version": "3.10.15"
  }
 },
 "nbformat": 4,
 "nbformat_minor": 2
}
