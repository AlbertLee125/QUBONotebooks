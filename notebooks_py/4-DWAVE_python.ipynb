{
 "cells": [
  {
   "cell_type": "markdown",
   "metadata": {},
   "source": [
    "<a name=\"top\" id=\"top\"></a>\n",
    "\n",
    "<div align=\"center\">\n",
    "    <h1>Quantum Annealing via D-Wave</h1>\n",
    "    <a href=\"https://github.com/bernalde\">David E. Bernal Neira</a>\n",
    "    <br>\n",
    "    <i>Davidson School of Chemical Engineering, Purdue University</i>\n",
    "    <br>\n",
    "    <i>Universities Space Research Association</i>\n",
    "    <br>\n",
    "    <i>NASA QuAIL</i>\n",
    "    <br>\n",
    "    <br>\n",
    "    <a href=\"https://github.com/pedromxavier\">Pedro Maciel Xavier</a>\n",
    "    <br>\n",
    "    <i>Davidson School of Chemical Engineering, Purdue University</i>\n",
    "    <br>\n",
    "    <i>Computer Science &amp; Systems Engineering Program, Federal University of Rio de Janeiro</i>\n",
    "    <br>\n",
    "    <i>PSR Energy Consulting &amp; Analytics</i>\n",
    "    <br>\n",
    "    <br>\n",
    "    <a href=\"https://github.com/murraybj\">Benjamin J. L. Murray</a>\n",
    "    <br>\n",
    "    <i>Davidson School of Chemical Engineering, Purdue University</i>\n",
    "    <br>\n",
    "    <i>Undergraduate Research Assistant</i>\n",
    "    <br>\n",
    "    <br>\n",
    "    <a href=\"https://colab.research.google.com/github/SECQUOIA/QUBONotebooks/blob/main/notebooks_py/4-DWAVE_python.ipynb\" target=\"_parent\">\n",
    "        <img src=\"https://colab.research.google.com/assets/colab-badge.svg\" alt=\"Open In Colab\"/>\n",
    "    </a>\n",
    "    <a href=\"#installation\">\n",
    "        <img src=\"https://img.shields.io/badge/⚙️-Installation_Instructions-blue\" alt=\"Installation Instructions\"/>\n",
    "    </a>\n",
    "    <a href=\"https://bernalde.github.io/\">\n",
    "        <img src=\"https://img.shields.io/badge/⚗️-Bernal_Lab-blue\" alt=\"Bernal Lab\"/>\n",
    "    </a>\n",
    "</div>"
   ]
  },
  {
   "cell_type": "markdown",
   "metadata": {},
   "source": [
    "## Quantum Annealing via D-Wave\n",
    "This notebook will give the first interaction with D-Wave's Quantum Annealer. It will use the QUBO modeling problem introduced earlier and will define it using D-Wave's package **[dimod](https://github.com/dwavesystems/dimod)**, and then solve them using **[neal](https://github.com/dwavesystems/dwave-neal)**'s implementation of simulated annealing classicaly and D-Wave system package to use Quantum Annealing.\n",
    "We will also leverage the use of **[Networkx](https://networkx.github.io/)** for network models/graphs."
   ]
  },
  {
   "cell_type": "markdown",
   "metadata": {},
   "source": [
    "#### Problem statement\n",
    "We define a QUBO as the following optimization problem:\n",
    "$$\n",
    "\\min_{x \\in \\{0,1 \\}^n} \\sum_{(ij) \\in E(G)} Q_{ij}x_i x_j + \\sum_{i \\in V(G)}Q_{ii}x_i + c_Q = \\min_{x \\in \\{0,1 \\}^n}  x^\\top Q x + c_Q\n",
    "$$\n",
    "where we optimize over binary variables $x \\in \\{ 0,1 \\}^n$, on a constrained graph $G(V,E)$ defined by an adjacency matrix $Q$. We also include an arbitrary offset  $c_Q$."
   ]
  },
  {
   "cell_type": "markdown",
   "metadata": {},
   "source": [
    "### Example\n",
    "Suppose we want to solve the following problem via QUBO\n",
    "$$\n",
    "\\min_{\\mathbf{x}} 2𝑥_0+4𝑥_1+4𝑥_2+4𝑥_3+4𝑥_4+4𝑥_5+5𝑥_6+4𝑥_7+5𝑥_8+6𝑥_9+5𝑥_{10} \\\\\n",
    "s.t. \\begin{bmatrix}\n",
    "1 & 0 & 0 & 1 & 1 & 1 & 0 & 1 & 1 & 1 & 1\\\\\n",
    "0 & 1 & 0 & 1 & 0 & 1 & 1 & 0 & 1 & 1 & 1\\\\\n",
    "0 & 0 & 1 & 0 & 1 & 0 & 1 & 1 & 1 & 1 & 1\n",
    "\\end{bmatrix}\\mathbf{x}=\n",
    "\\begin{bmatrix}\n",
    "1\\\\\n",
    "1\\\\\n",
    "1\n",
    "\\end{bmatrix} \\\\\n",
    "\\mathbf{x} \\in \\{0,1 \\}^{11}\n",
    "$$\n"
   ]
  },
  {
   "cell_type": "code",
   "execution_count": null,
   "metadata": {},
   "outputs": [],
   "source": [
    "# If using this on Google collab, we need to install the packages\n",
    "try:\n",
    "  import google.colab\n",
    "  IN_COLAB = True\n",
    "except:\n",
    "  IN_COLAB = False\n",
    "\n",
    "if IN_COLAB:\n",
    "    !pip install dwave-ocean-sdk"
   ]
  },
  {
   "cell_type": "code",
   "execution_count": null,
   "metadata": {},
   "outputs": [],
   "source": [
    "# Import the Dwave packages dimod and neal\n",
    "import dimod\n",
    "import neal\n",
    "# Import Matplotlib to generate plots\n",
    "import matplotlib.pyplot as plt\n",
    "# Import numpy and scipy for certain numerical calculations below\n",
    "import numpy as np\n",
    "from scipy.special import gamma\n",
    "import math\n",
    "from collections import Counter\n",
    "import pandas as pd\n",
    "from itertools import chain\n",
    "import time\n",
    "import networkx as nx"
   ]
  },
  {
   "cell_type": "markdown",
   "metadata": {},
   "source": [
    "First we would write this problem as a an unconstrained one by penalizing the linear constraints as quadratics in the objective. Let's first define the problem parameters"
   ]
  },
  {
   "cell_type": "code",
   "execution_count": null,
   "metadata": {},
   "outputs": [],
   "source": [
    "A = np.array([[1, 0, 0, 1, 1, 1, 0, 1, 1, 1, 1],\n",
    "            [0, 1, 0, 1, 0, 1, 1, 0, 1, 1, 1],\n",
    "            [0, 0, 1, 0, 1, 0, 1, 1, 1, 1, 1]])\n",
    "b = np.array([1, 1, 1])\n",
    "c = np.array([2, 4, 4, 4, 4, 4, 5, 4, 5,6, 5])"
   ]
  },
  {
   "cell_type": "markdown",
   "metadata": {},
   "source": [
    "In order to define the $Q$ matrix, we write the problem\n",
    "$$\n",
    "\\min_{\\mathbf{x}} \\mathbf{c}^\\top \\mathbf{x}\\\\\n",
    "s.t. \\mathbf{A}\\mathbf{x}=\\mathbf{b} \\\\\n",
    "\\mathbf{x} \\in \\{0,1 \\}^{11}\n",
    "$$\n",
    "as follows:\n",
    "$$\n",
    "\\min_{\\mathbf{x}} \\mathbf{c}^\\top \\mathbf{x} + \\rho(\\mathbf{A}\\mathbf{x}-\\mathbf{b})^\\top (\\mathbf{A}\\mathbf{x}-\\mathbf{b}) \\\\\n",
    "\\mathbf{x} \\in \\{0,1 \\}^{11}\n",
    "$$\n",
    "Exploting the fact that $x^2=x$ for $x \\in \\{0,1\\}$, we can make the linear terms appear in the diagonal of the $Q$ matrix.\n",
    "$$\n",
    "\\rho(\\mathbf{A}\\mathbf{x}-\\mathbf{b})^\\top (\\mathbf{A}\\mathbf{x}-\\mathbf{b}) = \\rho( \\mathbf{x}^\\top (\\mathbf{A}^\\top \\mathbf{A}) \\mathbf{x} - 2\\mathbf{b}^\\top \\mathbf{A} \\mathbf{x} + \\mathbf{b}^\\top \\mathbf{b} )\n",
    "$$\n",
    "For this problem in particular, ona can prove the the penalization factor is given by $\\rho > \\sum_{i=1}^n |c_i|$, therefore we choose this bound + 1."
   ]
  },
  {
   "cell_type": "code",
   "execution_count": null,
   "metadata": {},
   "outputs": [],
   "source": [
    "rho = np.sum(np.abs(c)) + 1\n",
    "Q = rho*np.matmul(A.T,A)\n",
    "Q += np.diag(c)\n",
    "Q -= rho*2*np.diag(np.matmul(b.T,A))\n",
    "cQ = rho*np.matmul(b.T,b)\n",
    "print(Q)\n",
    "print(cQ)\n"
   ]
  },
  {
   "cell_type": "markdown",
   "metadata": {},
   "source": [
    "We can visualize the graph that defines this instance using the Q matrix as the adjacency matrix of a graph."
   ]
  },
  {
   "cell_type": "code",
   "execution_count": null,
   "metadata": {},
   "outputs": [],
   "source": [
    "G = nx.from_numpy_array(Q)\n",
    "nx.draw(G, with_labels=True)\n"
   ]
  },
  {
   "cell_type": "markdown",
   "metadata": {},
   "source": [
    "Let's define a QUBO model and then solve it via simulated annealing."
   ]
  },
  {
   "cell_type": "code",
   "execution_count": null,
   "metadata": {},
   "outputs": [],
   "source": [
    "model = dimod.BinaryQuadraticModel.from_qubo(Q, offset=cQ)"
   ]
  },
  {
   "cell_type": "code",
   "execution_count": null,
   "metadata": {},
   "outputs": [],
   "source": [
    "def plot_enumerate(results, title=None):\n",
    "\n",
    "    plt.figure()\n",
    "\n",
    "    energies = [datum.energy for datum in results.data(\n",
    "        ['energy'], sorted_by=None)]\n",
    "    \n",
    "    if results.vartype == 'Vartype.BINARY':\n",
    "        samples = [''.join(c for c in str(datum.sample.values()).strip(\n",
    "            ', ') if c.isdigit()) for datum in results.data(['sample'], sorted_by=None)]\n",
    "        plt.xlabel('bitstring for solution')\n",
    "    else:\n",
    "        samples = np.arange(len(energies))\n",
    "        plt.xlabel('solution')\n",
    "\n",
    "    plt.bar(samples,energies)\n",
    "    plt.xticks(rotation=90)\n",
    "    plt.ylabel('Energy')\n",
    "    plt.title(str(title))\n",
    "    print(\"minimum energy:\", min(energies))\n",
    "\n",
    "\n",
    "def plot_energies(results, title=None):\n",
    "    energies = results.data_vectors['energy']\n",
    "    occurrences = results.data_vectors['num_occurrences']\n",
    "    counts = Counter(energies)\n",
    "    total = sum(occurrences)\n",
    "    counts = {}\n",
    "    for index, energy in enumerate(energies):\n",
    "        if energy in counts.keys():\n",
    "            counts[energy] += occurrences[index]\n",
    "        else:\n",
    "            counts[energy] = occurrences[index]\n",
    "    for key in counts:\n",
    "        counts[key] /= total\n",
    "    df = pd.DataFrame.from_dict(counts, orient='index').sort_index()\n",
    "    df.plot(kind='bar', legend=None)\n",
    "\n",
    "    plt.xlabel('Energy')\n",
    "    plt.ylabel('Probabilities')\n",
    "    plt.title(str(title))\n",
    "    plt.show()\n",
    "    print(\"minimum energy:\", min(energies))"
   ]
  },
  {
   "cell_type": "code",
   "execution_count": null,
   "metadata": {},
   "outputs": [],
   "source": [
    "simAnnSampler = neal.SimulatedAnnealingSampler()\n",
    "simAnnSamples = simAnnSampler.sample(model, num_reads=1000)\n"
   ]
  },
  {
   "cell_type": "markdown",
   "metadata": {},
   "source": [
    "Notice that this is the same example we have been solving earlier (via Integer Programming in the Quiz 2, via Ising model and QUBO in Notebook 2)."
   ]
  },
  {
   "cell_type": "markdown",
   "metadata": {},
   "source": [
    "## Now let's solve this using Quantum Annealing!\n",
    "\n",
    "First, we start by defining the `DWAVE_API_TOKEN` environment variable."
   ]
  },
  {
   "cell_type": "code",
   "execution_count": null,
   "metadata": {},
   "outputs": [],
   "source": [
    "# Let's setup the D-Wave connection\n",
    "if IN_COLAB:\n",
    "    !dwave setup"
   ]
  },
  {
   "cell_type": "code",
   "execution_count": null,
   "metadata": {},
   "outputs": [],
   "source": [
    "!dwave ping"
   ]
  },
  {
   "cell_type": "code",
   "execution_count": null,
   "metadata": {},
   "outputs": [],
   "source": [
    "import dwave_networkx as dnx\n",
    "from dwave.system import (DWaveSampler, EmbeddingComposite,\n",
    "                          FixedEmbeddingComposite)\n",
    "from pprint import pprint"
   ]
  },
  {
   "cell_type": "code",
   "execution_count": null,
   "metadata": {},
   "outputs": [],
   "source": [
    "# Graph corresponding to D-Wave 2000Q\n",
    "qpu = DWaveSampler()\n",
    "qpu_edges = qpu.edgelist\n",
    "qpu_nodes = qpu.nodelist\n",
    "# pprint(dir(qpu))\n",
    "if qpu.solver.id == \"DW_2000Q_6\":\n",
    "    print(qpu.solver.id)\n",
    "    X = dnx.chimera_graph(16, node_list=qpu_nodes, edge_list=qpu_edges)\n",
    "    dnx.draw_chimera(X, node_size=1)\n",
    "    print('Number of qubits=', len(qpu_nodes))\n",
    "    print('Number of couplers=', len(qpu_edges))\n",
    "else:\n",
    "    print(qpu.solver.id)\n",
    "    X = dnx.pegasus_graph(16, node_list=qpu_nodes, edge_list=qpu_edges)\n",
    "    dnx.draw_pegasus(X, node_size=1)\n",
    "    print('Number of qubits=', len(qpu_nodes))\n",
    "    print('Number of couplers=', len(qpu_edges))"
   ]
  },
  {
   "cell_type": "code",
   "execution_count": null,
   "metadata": {},
   "outputs": [],
   "source": [
    "DWavesampler = EmbeddingComposite(DWaveSampler())\n",
    "DWaveSamples = DWavesampler.sample(bqm=model, num_reads=1000, \n",
    "                                   return_embedding=True, \n",
    "                                  #  chain_strength=chain_strength, \n",
    "                                  #  annealing_time=annealing_time\n",
    "                                   )"
   ]
  },
  {
   "cell_type": "code",
   "execution_count": null,
   "metadata": {},
   "outputs": [],
   "source": [
    "print(DWaveSamples.info)"
   ]
  },
  {
   "cell_type": "code",
   "execution_count": null,
   "metadata": {},
   "outputs": [],
   "source": [
    "embedding = DWaveSamples.info['embedding_context']['embedding']\n",
    "if qpu.solver.id == \"DW_2000Q_6\":\n",
    "  dnx.draw_chimera_embedding(X, embedding, node_size=2)\n",
    "else:\n",
    "  dnx.draw_pegasus_embedding(X, embedding, node_size=2)"
   ]
  },
  {
   "cell_type": "code",
   "execution_count": null,
   "metadata": {},
   "outputs": [],
   "source": [
    "plot_enumerate(DWaveSamples, title='Quantum annealing in default parameters')\n",
    "plot_energies(DWaveSamples, title='Quantum annealing in default parameters')"
   ]
  },
  {
   "cell_type": "markdown",
   "metadata": {},
   "source": [
    "Now we can play with the other parameters such as Annealing time, chain strength, and annealing schedule to improve the performance of D-Wave's Quantum Annealing."
   ]
  }
 ],
 "metadata": {
  "language_info": {
   "name": "python"
  }
 },
 "nbformat": 4,
 "nbformat_minor": 2
}
